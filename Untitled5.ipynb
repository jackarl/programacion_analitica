{
  "nbformat": 4,
  "nbformat_minor": 0,
  "metadata": {
    "colab": {
      "provenance": [],
      "mount_file_id": "1EVj0dM-jwHbuf1QPrxQ9yYuoHCxKbJ_w",
      "authorship_tag": "ABX9TyN89om4h1Hb8Eo8apoJgcxh",
      "include_colab_link": true
    },
    "kernelspec": {
      "name": "python3",
      "display_name": "Python 3"
    },
    "language_info": {
      "name": "python"
    }
  },
  "cells": [
    {
      "cell_type": "markdown",
      "metadata": {
        "id": "view-in-github",
        "colab_type": "text"
      },
      "source": [
        "<a href=\"https://colab.research.google.com/github/jackarl/programacion_analitica/blob/main/Untitled5.ipynb\" target=\"_parent\"><img src=\"https://colab.research.google.com/assets/colab-badge.svg\" alt=\"Open In Colab\"/></a>"
      ]
    },
    {
      "cell_type": "code",
      "execution_count": 17,
      "metadata": {
        "id": "-WOQnflCt50r"
      },
      "outputs": [],
      "source": [
        "import numpy as np\n",
        "import pandas as pd\n",
        "from IPython.display import display, Math\n",
        "import sympy as sp"
      ]
    },
    {
      "cell_type": "code",
      "source": [
        "from typing import TYPE_CHECKING\n",
        "matriz = pd.read_csv('/content/drive/MyDrive/matriz_A.csv', sep=';')\n",
        "np.array(matriz)\n",
        "display(Math(sp.latex(sp.sympify(matriz)))) # if you want to print an specific matrix"
      ],
      "metadata": {
        "colab": {
          "base_uri": "https://localhost:8080/",
          "height": 37
        },
        "id": "kSVZ3uklumQ4",
        "outputId": "6438dfa3-a26b-4fd3-9944-6ef0d4ae904a"
      },
      "execution_count": 18,
      "outputs": [
        {
          "output_type": "display_data",
          "data": {
            "text/plain": [
              "<IPython.core.display.Math object>"
            ],
            "text/latex": "$\\displaystyle \\mathtt{\\text{   0  1  2  3  4  5  6  7  8  9\n0  A  B  C  D  E  F  G  H  I  J}}$"
          },
          "metadata": {}
        }
      ]
    },
    {
      "cell_type": "code",
      "source": [],
      "metadata": {
        "id": "YMjkI9Edvjdc"
      },
      "execution_count": null,
      "outputs": []
    },
    {
      "cell_type": "markdown",
      "source": [
        "![image.png](data:image/png;base64,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)"
      ],
      "metadata": {
        "id": "yRp141DZxAIY"
      }
    },
    {
      "cell_type": "code",
      "source": [
        "A = np.array([[3.0, 4.9, 3.3, 3.4, 3.7, 7.5, 4.9, 7.1, 8.7, 8.9],[3.6, 7, 6.3, 8.1, 4.4, 6.8, 4.3, 7.5, 8.6, 4],[3.5, 4, 5.1, 4.2, 3.1, 8.4, 5.1, 8.5, 7.5, 4.8], [5, 8.2, 6.4, 8.3, 3.9, 8.7, 4, 9.7, 9.4, 3.8],[5.5, 5.3, 8, 3.7, 3.1, 7.3, 5.5, 5.7, 5.9, 8],[3.3, 5.95, 4.8, 5.75, 4.05, 7.15, 4.6, 7.3, 8.65, 6.45], [3.06, 5.11, 3.6, 3.87, 3.77, 7.43, 4.84, 7.14, 8.69, 8.41], [4.2, 5.25, 5.85, 4.86, 3.03, 7.32, 4.38, 7.17, 6.84, 4.98], [3.02, 4.82, 4.22, 4.8, 3.02, 6.28, 3.66, 6.56, 6.84, 4.3], [7.9, 7.38, 7.08, 7.57, 8.49, 6.34, 7.81, 6.42, 6.58, 7.51]])"
      ],
      "metadata": {
        "id": "E9eZlJIYxBTG"
      },
      "execution_count": 28,
      "outputs": []
    },
    {
      "cell_type": "code",
      "source": [
        "display(Math(sp.latex(sp.sympify(A)))) # if you want to print an specific matrix"
      ],
      "metadata": {
        "colab": {
          "base_uri": "https://localhost:8080/",
          "height": 220
        },
        "id": "wIBJ86cd1VHn",
        "outputId": "fd7d9dba-3595-40fb-b6ff-0bacc8e8fd46"
      },
      "execution_count": 29,
      "outputs": [
        {
          "output_type": "display_data",
          "data": {
            "text/plain": [
              "<IPython.core.display.Math object>"
            ],
            "text/latex": "$\\displaystyle \\left[\\begin{matrix}3.0 & 4.9 & 3.3 & 3.4 & 3.7 & 7.5 & 4.9 & 7.1 & 8.7 & 8.9\\\\3.6 & 7.0 & 6.3 & 8.1 & 4.4 & 6.8 & 4.3 & 7.5 & 8.6 & 4.0\\\\3.5 & 4.0 & 5.1 & 4.2 & 3.1 & 8.4 & 5.1 & 8.5 & 7.5 & 4.8\\\\5.0 & 8.2 & 6.4 & 8.3 & 3.9 & 8.7 & 4.0 & 9.7 & 9.4 & 3.8\\\\5.5 & 5.3 & 8.0 & 3.7 & 3.1 & 7.3 & 5.5 & 5.7 & 5.9 & 8.0\\\\3.3 & 5.95 & 4.8 & 5.75 & 4.05 & 7.15 & 4.6 & 7.3 & 8.65 & 6.45\\\\3.06 & 5.11 & 3.6 & 3.87 & 3.77 & 7.43 & 4.84 & 7.14 & 8.69 & 8.41\\\\4.2 & 5.25 & 5.85 & 4.86 & 3.03 & 7.32 & 4.38 & 7.17 & 6.84 & 4.98\\\\3.02 & 4.82 & 4.22 & 4.8 & 3.02 & 6.28 & 3.66 & 6.56 & 6.84 & 4.3\\\\7.9 & 7.38 & 7.08 & 7.57 & 8.49 & 6.34 & 7.81 & 6.42 & 6.58 & 7.51\\end{matrix}\\right]$"
          },
          "metadata": {}
        }
      ]
    },
    {
      "cell_type": "code",
      "source": [
        "rango = np.linalg.matrix_rank(A)\n",
        "print(\"Rango de A:\", rango)  # Resultado esperado: 10 (confirmando dependencia)"
      ],
      "metadata": {
        "colab": {
          "base_uri": "https://localhost:8080/"
        },
        "id": "e1TZZ4Pa1TJ3",
        "outputId": "501be67e-f926-46ba-99a2-4654b7c31c2b"
      },
      "execution_count": 30,
      "outputs": [
        {
          "output_type": "stream",
          "name": "stdout",
          "text": [
            "Rango de A: 6\n"
          ]
        }
      ]
    },
    {
      "cell_type": "code",
      "source": [],
      "metadata": {
        "id": "UpBQbWTW3CfR"
      },
      "execution_count": null,
      "outputs": []
    }
  ]
}