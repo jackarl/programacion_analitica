{
  "nbformat": 4,
  "nbformat_minor": 0,
  "metadata": {
    "colab": {
      "provenance": [],
      "authorship_tag": "ABX9TyNp7fQr3d+AGKNDSN1VQfyc",
      "include_colab_link": true
    },
    "kernelspec": {
      "name": "python3",
      "display_name": "Python 3"
    },
    "language_info": {
      "name": "python"
    }
  },
  "cells": [
    {
      "cell_type": "markdown",
      "metadata": {
        "id": "view-in-github",
        "colab_type": "text"
      },
      "source": [
        "<a href=\"https://colab.research.google.com/github/jackarl/programacion_analitica/blob/main/Valores_y_Vectores_Propios.ipynb\" target=\"_parent\"><img src=\"https://colab.research.google.com/assets/colab-badge.svg\" alt=\"Open In Colab\"/></a>"
      ]
    },
    {
      "cell_type": "code",
      "execution_count": 4,
      "metadata": {
        "id": "ox2oczDHt_fi"
      },
      "outputs": [],
      "source": [
        "import pandas as pd\n",
        "from IPython.display import display, Math\n",
        "import sympy as sp\n",
        "import numpy as np"
      ]
    },
    {
      "cell_type": "code",
      "source": [
        "#MATRICES\n",
        "A = np.array([[-89/46,-9/46,-9/23],\n",
        "              [-9/46,-65/46,27/23],\n",
        "              [-9/23,27/23,8/23]])\n",
        "\n",
        "B = np.array([[1,-138,-414/37],\n",
        "              [-3, 0, -138],\n",
        "              [-6,-23,2484/37]])\n",
        "#Imprimir\n",
        "print('Matriz A')\n",
        "display(Math(sp.latex(sp.sympify(A))))\n",
        "print('\\n****************************************************\\n')\n",
        "print('Matriz B')\n",
        "display(Math(sp.latex(sp.sympify(B))))"
      ],
      "metadata": {
        "colab": {
          "base_uri": "https://localhost:8080/",
          "height": 230
        },
        "id": "JbJ_PPe-uDoG",
        "outputId": "11b506c3-e87f-4cea-c463-46cf9932a238"
      },
      "execution_count": 16,
      "outputs": [
        {
          "output_type": "stream",
          "name": "stdout",
          "text": [
            "Matriz A\n"
          ]
        },
        {
          "output_type": "display_data",
          "data": {
            "text/plain": [
              "<IPython.core.display.Math object>"
            ],
            "text/latex": "$\\displaystyle \\left[\\begin{matrix}-1.93478260869565 & -0.195652173913043 & -0.391304347826087\\\\-0.195652173913043 & -1.41304347826087 & 1.17391304347826\\\\-0.391304347826087 & 1.17391304347826 & 0.347826086956522\\end{matrix}\\right]$"
          },
          "metadata": {}
        },
        {
          "output_type": "stream",
          "name": "stdout",
          "text": [
            "\n",
            "****************************************************\n",
            "\n",
            "Matriz B\n"
          ]
        },
        {
          "output_type": "display_data",
          "data": {
            "text/plain": [
              "<IPython.core.display.Math object>"
            ],
            "text/latex": "$\\displaystyle \\left[\\begin{matrix}1.0 & -138.0 & -11.1891891891892\\\\-3.0 & 0.0 & -138.0\\\\-6.0 & -23.0 & 67.1351351351351\\end{matrix}\\right]$"
          },
          "metadata": {}
        }
      ]
    },
    {
      "cell_type": "markdown",
      "source": [
        "1) Encuentre los valores propios de la matriz A e indique cuál es la multiplicidad algebraica de cada uno"
      ],
      "metadata": {
        "id": "8i8-4pPI0vWi"
      }
    },
    {
      "cell_type": "code",
      "source": [
        "# Convertir a una matriz simbólica para calcular valores propios exactos\n",
        "A_sym = sp.Matrix(A)\n",
        "\n",
        "# Calcular los valores propios y su multiplicidad algebraica\n",
        "eigenvalues = A_sym.eigenvals()\n",
        "\n",
        "# Mostrar resultados\n",
        "for eigenvalue, multiplicity in eigenvalues.items():\n",
        "    print(f\"Valor propio: {eigenvalue}, Multiplicidad algebraica: {multiplicity}\")"
      ],
      "metadata": {
        "colab": {
          "base_uri": "https://localhost:8080/"
        },
        "id": "krKHY6Dc3RyU",
        "outputId": "9ce5bded-5d1d-4c2c-f49b-af34254fe67c"
      },
      "execution_count": 17,
      "outputs": [
        {
          "output_type": "stream",
          "name": "stdout",
          "text": [
            "Valor propio: -2.00000000000000, Multiplicidad algebraica: 2\n",
            "Valor propio: 1.00000000000000, Multiplicidad algebraica: 1\n"
          ]
        }
      ]
    },
    {
      "cell_type": "markdown",
      "source": [
        "2) Encuentre los subespacios propios asociados a cada valor propio"
      ],
      "metadata": {
        "id": "Xql5_wKL0xYx"
      }
    },
    {
      "cell_type": "code",
      "source": [],
      "metadata": {
        "id": "hAQm0VtG3LIV"
      },
      "execution_count": null,
      "outputs": []
    },
    {
      "cell_type": "markdown",
      "source": [
        "3) Encuentre una base para cada subespacio propio"
      ],
      "metadata": {
        "id": "oqrlpesU0xQx"
      }
    },
    {
      "cell_type": "markdown",
      "source": [
        "4) Diga si la matriz A es diagonalizable. Justifique su respuesta"
      ],
      "metadata": {
        "id": "rJGgBBt40xIZ"
      }
    },
    {
      "cell_type": "markdown",
      "source": [
        "5) Encuentre la matriz C = AB y explique la relación que existe entre las columnas de la matriz C y la matriz B."
      ],
      "metadata": {
        "id": "eiF8HeyF0w8Z"
      }
    },
    {
      "cell_type": "code",
      "source": [
        "C = A * B\n",
        "print('Matriz C')\n",
        "C = display(Math(sp.latex(sp.sympify(C))))"
      ],
      "metadata": {
        "colab": {
          "base_uri": "https://localhost:8080/",
          "height": 96
        },
        "id": "A1x2K_Ksy4BU",
        "outputId": "9875066c-e1d2-40e7-c184-d22368800cc4"
      },
      "execution_count": 18,
      "outputs": [
        {
          "output_type": "stream",
          "name": "stdout",
          "text": [
            "Matriz C\n"
          ]
        },
        {
          "output_type": "display_data",
          "data": {
            "text/plain": [
              "<IPython.core.display.Math object>"
            ],
            "text/latex": "$\\displaystyle \\left[\\begin{matrix}-1.93478260869565 & 27.0 & 4.37837837837838\\\\0.58695652173913 & 0.0 & -162.0\\\\2.34782608695652 & -27.0 & 23.3513513513513\\end{matrix}\\right]$"
          },
          "metadata": {}
        }
      ]
    },
    {
      "cell_type": "code",
      "source": [],
      "metadata": {
        "id": "WYf6SdPyZAro"
      },
      "execution_count": null,
      "outputs": []
    }
  ]
}