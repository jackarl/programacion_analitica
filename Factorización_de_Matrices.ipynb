{
  "nbformat": 4,
  "nbformat_minor": 0,
  "metadata": {
    "colab": {
      "provenance": [],
      "authorship_tag": "ABX9TyMasri3zkdf1fWX1htHWz3Y",
      "include_colab_link": true
    },
    "kernelspec": {
      "name": "python3",
      "display_name": "Python 3"
    },
    "language_info": {
      "name": "python"
    }
  },
  "cells": [
    {
      "cell_type": "markdown",
      "metadata": {
        "id": "view-in-github",
        "colab_type": "text"
      },
      "source": [
        "<a href=\"https://colab.research.google.com/github/jackarl/programacion_analitica/blob/main/Factorizaci%C3%B3n_de_Matrices.ipynb\" target=\"_parent\"><img src=\"https://colab.research.google.com/assets/colab-badge.svg\" alt=\"Open In Colab\"/></a>"
      ]
    },
    {
      "cell_type": "code",
      "source": [
        "import numpy as np\n",
        "import pandas as pd\n",
        "from IPython.display import display, Math\n",
        "import sympy as sp\n",
        "from scipy.linalg import lu #libreria para utilizar descomposicion A = LU\n",
        "from scipy.linalg import qr #libreria para utilizar descomposicion A = QR"
      ],
      "metadata": {
        "id": "L62-QF6PIQpO"
      },
      "execution_count": null,
      "outputs": []
    },
    {
      "cell_type": "markdown",
      "source": [
        "**Factorización de Matrices**\n",
        "\n"
      ],
      "metadata": {
        "id": "ov6_XkH4AqmI"
      }
    },
    {
      "cell_type": "markdown",
      "source": [
        "Se le asignará una matriz A. Para dicha matriz:\n",
        "\n",
        "(imagen de la matriz dada en Geogebra)"
      ],
      "metadata": {
        "id": "odxEt2YIAwIN"
      }
    },
    {
      "cell_type": "markdown",
      "source": [
        "![image.png](data:image/png;base64,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)"
      ],
      "metadata": {
        "id": "wA3F5tZ5A7pt"
      }
    },
    {
      "cell_type": "markdown",
      "source": [
        "1. Obtenga, por medio de transformaciones elementales, una matriz B que sea de diagonal predominante"
      ],
      "metadata": {
        "id": "IGNEWoiVA5MF"
      }
    },
    {
      "cell_type": "markdown",
      "source": [
        "Intercambiamos columnas 3 ► 1, 2 ► 1 y 1 ► 2"
      ],
      "metadata": {
        "id": "wH1qfm3aJRas"
      }
    },
    {
      "cell_type": "markdown",
      "source": [
        "R1: |4.5| >= |1| + |2|  ✔️\n",
        "\n",
        "R2: |9.75| >= |2| + |4.5|  ✔️\n",
        "\n",
        "R3: |6| >= |-3| + |1|  ✔️"
      ],
      "metadata": {
        "id": "ZjfDbK1HC-Cx"
      }
    },
    {
      "cell_type": "code",
      "execution_count": null,
      "metadata": {
        "colab": {
          "base_uri": "https://localhost:8080/",
          "height": 96
        },
        "id": "d4DrzW62Aj4w",
        "outputId": "13735245-22d4-45e5-9df8-982b9d64d239"
      },
      "outputs": [
        {
          "output_type": "stream",
          "name": "stdout",
          "text": [
            "B, matriz diagonalmente dominante de A\n"
          ]
        },
        {
          "output_type": "display_data",
          "data": {
            "text/plain": [
              "<IPython.core.display.Math object>"
            ],
            "text/latex": "$\\displaystyle \\left[\\begin{matrix}4.5 & 1.0 & 2.0\\\\2.0 & 9.75 & 4.5\\\\1.0 & -3.0 & 6.0\\end{matrix}\\right]$"
          },
          "metadata": {}
        }
      ],
      "source": [
        "B = np.array([[4.5, 1, 2], [2, 9.75, 4.5], [1, -3, 6]])\n",
        "print('B, matriz diagonalmente dominante de A')\n",
        "display(Math(sp.latex(sp.sympify(B))))"
      ]
    },
    {
      "cell_type": "markdown",
      "source": [
        "2. Obtenga la factorización LU de la matriz B"
      ],
      "metadata": {
        "id": "1KjELG51N4xa"
      }
    },
    {
      "cell_type": "code",
      "source": [
        "# Obtener la descomposición LU con pivoteo parcial\n",
        "P, L, U = lu(B)\n",
        "\n",
        "# print(\"Matriz de permutación P:\\n\", P)\n",
        "print(\"_____________________________\")\n",
        "\n",
        "print(\"\\nMatriz triangular inferior L:\\n\",)\n",
        "display(Math(sp.latex(sp.sympify(np.round(L,4)))))\n",
        "\n",
        "print(\"\\nMatriz triangular superior U:\\n\",)\n",
        "display(Math(sp.latex(sp.sympify(np.round(U, 4)))))\n",
        "print(\"_____________________________\")"
      ],
      "metadata": {
        "colab": {
          "base_uri": "https://localhost:8080/",
          "height": 285
        },
        "id": "g0YhKiXNKEMS",
        "outputId": "81ff35e1-c1d0-493d-c612-db185763113d"
      },
      "execution_count": null,
      "outputs": [
        {
          "output_type": "stream",
          "name": "stdout",
          "text": [
            "_____________________________\n",
            "\n",
            "Matriz triangular inferior L:\n",
            "\n"
          ]
        },
        {
          "output_type": "display_data",
          "data": {
            "text/plain": [
              "<IPython.core.display.Math object>"
            ],
            "text/latex": "$\\displaystyle \\left[\\begin{matrix}1.0 & 0.0 & 0.0\\\\0.4444 & 1.0 & 0.0\\\\0.2222 & -0.3463 & 1.0\\end{matrix}\\right]$"
          },
          "metadata": {}
        },
        {
          "output_type": "stream",
          "name": "stdout",
          "text": [
            "\n",
            "Matriz triangular superior U:\n",
            "\n"
          ]
        },
        {
          "output_type": "display_data",
          "data": {
            "text/plain": [
              "<IPython.core.display.Math object>"
            ],
            "text/latex": "$\\displaystyle \\left[\\begin{matrix}4.5 & 1.0 & 2.0\\\\0.0 & 9.3056 & 3.6111\\\\0.0 & 0.0 & 6.806\\end{matrix}\\right]$"
          },
          "metadata": {}
        },
        {
          "output_type": "stream",
          "name": "stdout",
          "text": [
            "_____________________________\n"
          ]
        }
      ]
    },
    {
      "cell_type": "markdown",
      "source": [
        "3. Obtenga la factorización QR de la matriz B"
      ],
      "metadata": {
        "id": "AqM6_7Q6OBiR"
      }
    },
    {
      "cell_type": "code",
      "source": [
        "# from scipy.linalg import qr\n",
        "\n",
        "# Definir la matriz D (en decimales)\n",
        "# D = np.array([\n",
        "#     [9/2, 1, 2],\n",
        "#     [2, 39/4, 9/2],\n",
        "#     [1, -3, 6]\n",
        "# ], dtype=float)\n",
        "\n",
        "# Calcular la descomposición QR\n",
        "Q, R = qr(B)\n",
        "\n",
        "print(\"Matriz Q (ortonormal):\\n\",)\n",
        "display(Math(sp.latex(sp.sympify(np.round(Q, 4)))))\n",
        "print(\"\\nMatriz R (triangular superior):\\n\",)\n",
        "display(Math(sp.latex(sp.sympify(np.round(R, 4)))))"
      ],
      "metadata": {
        "colab": {
          "base_uri": "https://localhost:8080/",
          "height": 230
        },
        "id": "kjEbJlqIMTXs",
        "outputId": "b8f91706-c6a7-48e6-dcc6-964e8e86b9d1"
      },
      "execution_count": null,
      "outputs": [
        {
          "output_type": "stream",
          "name": "stdout",
          "text": [
            "Matriz Q (ortonormal):\n",
            "\n"
          ]
        },
        {
          "output_type": "display_data",
          "data": {
            "text/plain": [
              "<IPython.core.display.Math object>"
            ],
            "text/latex": "$\\displaystyle \\left[\\begin{matrix}-0.8955 & 0.293 & -0.3349\\\\-0.398 & -0.864 & 0.3083\\\\-0.199 & 0.4094 & 0.8904\\end{matrix}\\right]$"
          },
          "metadata": {}
        },
        {
          "output_type": "stream",
          "name": "stdout",
          "text": [
            "\n",
            "Matriz R (triangular superior):\n",
            "\n"
          ]
        },
        {
          "output_type": "display_data",
          "data": {
            "text/plain": [
              "<IPython.core.display.Math object>"
            ],
            "text/latex": "$\\displaystyle \\left[\\begin{matrix}-5.0249 & -4.1792 & -4.7762\\\\0.0 & -9.3593 & -0.8456\\\\0.0 & 0.0 & 6.06\\end{matrix}\\right]$"
          },
          "metadata": {}
        }
      ]
    },
    {
      "cell_type": "markdown",
      "source": [
        "4. Obtenga la factorización en valores singulaes de la matriz B"
      ],
      "metadata": {
        "id": "I4qSseeljZaU"
      }
    },
    {
      "cell_type": "code",
      "source": [
        "# D = np.array([\n",
        "#     [9/2, 1, 2],\n",
        "#     [2, 39/4, 9/2],\n",
        "#     [1, -3, 6]\n",
        "# ], dtype=float)\n",
        "\n",
        "# Código Python usando numpy.linalg.svd:\n",
        "\n",
        "# Calcular la descomposición SVD\n",
        "U, Sigma, Vt = np.linalg.svd(B)\n",
        "\n",
        "print(\"Matriz U (vectores singulares izquierdos):\\n\",)\n",
        "display(Math(sp.latex(sp.sympify(np.round(U, 4)))))\n",
        "print(\"\\nValores singulares Σ (diagonal):\\n\",)\n",
        "display(Math(sp.latex(sp.sympify(np.round(Sigma, 4)))))\n",
        "print(\"\\nMatriz V^T (vectores singulares derechos transpuestos):\\n\",)\n",
        "display(Math(sp.latex(sp.sympify(np.round(Vt, 4)))))"
      ],
      "metadata": {
        "colab": {
          "base_uri": "https://localhost:8080/",
          "height": 307
        },
        "id": "-6sd6ea3PcS1",
        "outputId": "c62780a4-4ece-4b8c-fcad-c5a7e6998d54"
      },
      "execution_count": null,
      "outputs": [
        {
          "output_type": "stream",
          "name": "stdout",
          "text": [
            "Matriz U (vectores singulares izquierdos):\n",
            "\n"
          ]
        },
        {
          "output_type": "display_data",
          "data": {
            "text/plain": [
              "<IPython.core.display.Math object>"
            ],
            "text/latex": "$\\displaystyle \\left[\\begin{matrix}-0.268 & 0.3417 & -0.9008\\\\-0.9625 & -0.1354 & 0.235\\\\-0.0417 & 0.93 & 0.3652\\end{matrix}\\right]$"
          },
          "metadata": {}
        },
        {
          "output_type": "stream",
          "name": "stdout",
          "text": [
            "\n",
            "Valores singulares Σ (diagonal):\n",
            "\n"
          ]
        },
        {
          "output_type": "display_data",
          "data": {
            "text/plain": [
              "<IPython.core.display.Math object>"
            ],
            "text/latex": "$\\displaystyle \\left[\\begin{matrix}11.2706 & 7.1412 & 3.541\\end{matrix}\\right]$"
          },
          "metadata": {}
        },
        {
          "output_type": "stream",
          "name": "stdout",
          "text": [
            "\n",
            "Matriz V^T (vectores singulares derechos transpuestos):\n",
            "\n"
          ]
        },
        {
          "output_type": "display_data",
          "data": {
            "text/plain": [
              "<IPython.core.display.Math object>"
            ],
            "text/latex": "$\\displaystyle \\left[\\begin{matrix}-0.2815 & -0.8453 & -0.454\\\\0.3076 & -0.5277 & 0.7918\\\\-0.9089 & 0.0832 & 0.4086\\end{matrix}\\right]$"
          },
          "metadata": {}
        }
      ]
    },
    {
      "cell_type": "markdown",
      "source": [
        "NOTA: Profesor, La actividad en Geogebra no se hace intuitiva (opinion personal) ya que perdi mucho tiempo tratando de resolver los problemas desde ahi. Decidi mejor trasladar las operacion en python donde se me da mas comoda la manipulacion de datos."
      ],
      "metadata": {
        "id": "UrB-833pRj8D"
      }
    },
    {
      "cell_type": "code",
      "source": [],
      "metadata": {
        "id": "L50xYrMFRWIx"
      },
      "execution_count": null,
      "outputs": []
    }
  ]
}