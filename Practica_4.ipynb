{
 "cells": [
  {
   "cell_type": "markdown",
   "id": "74dab540-47f4-4dec-8c04-69a1e2df73ae",
   "metadata": {},
   "source": [
    "Manipulación de matrices"
   ]
  },
  {
   "cell_type": "markdown",
   "id": "c707c5db-5315-43f1-ad16-14e09a90ae21",
   "metadata": {},
   "source": [
    "Crea dos matrices de 3x3 con números aleatorios entre 1 y 10. Realiza las siguientes operaciones:\n",
    "\n",
    "1. Suma ambas matrices.\n",
    "2. Resta la segunda matriz de la primera.\n",
    "3. Multiplica la primera matriz por 2.\n",
    "4. Realiza una multiplicación matricial entre las dos matrices."
   ]
  },
  {
   "cell_type": "code",
   "execution_count": 3,
   "id": "e475f0b2-746c-4087-9f9f-19609af7c557",
   "metadata": {},
   "outputs": [],
   "source": [
    "import matplotlib.pyplot as plt\n",
    "import numpy as np\n",
    "from IPython.display import display, Math\n",
    "import sympy as sp"
   ]
  },
  {
   "cell_type": "code",
   "execution_count": 4,
   "id": "2b775876-dc62-4a91-888c-df38b2b5ce9e",
   "metadata": {},
   "outputs": [
    {
     "name": "stdout",
     "output_type": "stream",
     "text": [
      "La matriz A es:\n"
     ]
    },
    {
     "data": {
      "text/latex": [
       "$\\displaystyle \\left[\\begin{matrix}1 & 2 & 3\\\\0 & -5 & 4\\\\3 & -1 & 6\\end{matrix}\\right]$"
      ],
      "text/plain": [
       "<IPython.core.display.Math object>"
      ]
     },
     "metadata": {},
     "output_type": "display_data"
    },
    {
     "name": "stdout",
     "output_type": "stream",
     "text": [
      "La matriz B es: \n"
     ]
    },
    {
     "data": {
      "text/latex": [
       "$\\displaystyle \\left[\\begin{matrix}1 & 1 & 3\\\\-4 & 0 & 4\\\\-2 & -4 & 2\\end{matrix}\\right]$"
      ],
      "text/plain": [
       "<IPython.core.display.Math object>"
      ]
     },
     "metadata": {},
     "output_type": "display_data"
    },
    {
     "name": "stdout",
     "output_type": "stream",
     "text": [
      "                 1) La suma A + B: \n"
     ]
    },
    {
     "data": {
      "text/latex": [
       "$\\displaystyle \\left[\\begin{matrix}2 & 3 & 6\\\\-4 & -5 & 8\\\\1 & -5 & 8\\end{matrix}\\right]$"
      ],
      "text/plain": [
       "<IPython.core.display.Math object>"
      ]
     },
     "metadata": {},
     "output_type": "display_data"
    },
    {
     "name": "stdout",
     "output_type": "stream",
     "text": [
      "                 2) La resta B - A: \n"
     ]
    },
    {
     "data": {
      "text/latex": [
       "$\\displaystyle \\left[\\begin{matrix}0 & -1 & 0\\\\-4 & 5 & 0\\\\-5 & -3 & -4\\end{matrix}\\right]$"
      ],
      "text/plain": [
       "<IPython.core.display.Math object>"
      ]
     },
     "metadata": {},
     "output_type": "display_data"
    },
    {
     "name": "stdout",
     "output_type": "stream",
     "text": [
      "                 3) multiplicar A x 2: \n"
     ]
    },
    {
     "data": {
      "text/latex": [
       "$\\displaystyle \\left[\\begin{matrix}2 & 4 & 6\\\\0 & -10 & 8\\\\6 & -2 & 12\\end{matrix}\\right]$"
      ],
      "text/plain": [
       "<IPython.core.display.Math object>"
      ]
     },
     "metadata": {},
     "output_type": "display_data"
    },
    {
     "name": "stdout",
     "output_type": "stream",
     "text": [
      "                 4) multiplicar A x B: \n"
     ]
    },
    {
     "data": {
      "text/latex": [
       "$\\displaystyle \\left[\\begin{matrix}-13 & -11 & 17\\\\12 & -16 & -12\\\\-5 & -21 & 17\\end{matrix}\\right]$"
      ],
      "text/plain": [
       "<IPython.core.display.Math object>"
      ]
     },
     "metadata": {},
     "output_type": "display_data"
    }
   ],
   "source": [
    "A = np.array([[1,2,3],[0,-5,4],[3,-1,6]])\n",
    "B = np.array([[1,1,3],[-4,0,4],[-2,-4,2]])\n",
    "print('La matriz A es:')\n",
    "display(Math(sp.latex(sp.sympify(A))))\n",
    "print('La matriz B es: ')\n",
    "display(Math(sp.latex(sp.sympify(B))))\n",
    "escalar = 2\n",
    "#-------------------------------------------Suma ambas matrices.\n",
    "print('                 1) La suma A + B: ')\n",
    "display(Math(sp.latex(sp.sympify(A+B))))\n",
    "\n",
    "#-------------------------------------------Resta la segunda matriz de la primera\n",
    "print('                 2) La resta B - A: ')\n",
    "display(Math(sp.latex(sp.sympify(B - A))))\n",
    "#-------------------------------------------Multiplica la primera matriz por 2\n",
    "print('                 3) multiplicar A x 2: ')\n",
    "display(Math(sp.latex(sp.sympify(A*escalar))))\n",
    "\n",
    "#Realiza una multiplicación matricial entre las dos matrices.\n",
    "print('                 4) multiplicar A x B: ')\n",
    "AB =  np.dot(A, B)\n",
    "display(Math(sp.latex(sp.sympify((AB)))))\n",
    "    \n"
   ]
  },
  {
   "cell_type": "code",
   "execution_count": null,
   "id": "2dd667b5-3f68-4192-a6c2-10422adc4e73",
   "metadata": {},
   "outputs": [],
   "source": []
  }
 ],
 "metadata": {
  "kernelspec": {
   "display_name": "Python [conda env:base] *",
   "language": "python",
   "name": "conda-base-py"
  },
  "language_info": {
   "codemirror_mode": {
    "name": "ipython",
    "version": 3
   },
   "file_extension": ".py",
   "mimetype": "text/x-python",
   "name": "python",
   "nbconvert_exporter": "python",
   "pygments_lexer": "ipython3",
   "version": "3.12.7"
  }
 },
 "nbformat": 4,
 "nbformat_minor": 5
}
