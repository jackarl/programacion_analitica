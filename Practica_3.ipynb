{
 "cells": [
  {
   "cell_type": "code",
   "execution_count": 1,
   "id": "88c0e5ef-fcd0-4fae-9040-645edf53edcf",
   "metadata": {},
   "outputs": [],
   "source": [
    "from random import randint"
   ]
  },
  {
   "cell_type": "code",
   "execution_count": 2,
   "id": "6ec544bf-da77-4b44-b325-28219269858e",
   "metadata": {},
   "outputs": [
    {
     "name": "stdout",
     "output_type": "stream",
     "text": [
      "[39, 44, 6, 85, 76, 20, 72, 81, 62, 84, 26, 19, 42, 7, 93, 96, 95, 95, 42, 66]\n",
      "Valor maximo: 96\n",
      "Valor minimo: 6\n",
      "Suma de los valores: 1150\n",
      "promedio: 57.5\n",
      "[49, 54, 16, 95, 86, 30, 82, 91, 72, 94, 36, 29, 52, 17, 103, 106, 105, 105, 52, 76]\n"
     ]
    }
   ],
   "source": [
    "list = []\n",
    "for item in range(20):\n",
    "    list.append(randint(1, 100))\n",
    "print(list)\n",
    "#--------------------imprimir valores\n",
    "print (f'Valor maximo: {max(list)}')\n",
    "print (f'Valor minimo: {min(list)}')\n",
    "print (f'Suma de los valores: {sum(list)}')\n",
    "print (f'promedio: {(sum(list))/(len(list))}')\n",
    "Suma10 = [num + 10 for num in list]\n",
    "print(Suma10)\n"
   ]
  },
  {
   "cell_type": "code",
   "execution_count": null,
   "id": "b5bfa1f0-03f4-464f-8672-06ea7dac2989",
   "metadata": {},
   "outputs": [],
   "source": []
  }
 ],
 "metadata": {
  "kernelspec": {
   "display_name": "Python [conda env:base] *",
   "language": "python",
   "name": "conda-base-py"
  },
  "language_info": {
   "codemirror_mode": {
    "name": "ipython",
    "version": 3
   },
   "file_extension": ".py",
   "mimetype": "text/x-python",
   "name": "python",
   "nbconvert_exporter": "python",
   "pygments_lexer": "ipython3",
   "version": "3.12.7"
  }
 },
 "nbformat": 4,
 "nbformat_minor": 5
}
