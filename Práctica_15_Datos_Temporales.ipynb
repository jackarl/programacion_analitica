{
  "nbformat": 4,
  "nbformat_minor": 0,
  "metadata": {
    "colab": {
      "provenance": [],
      "mount_file_id": "1GDFRTakfn2Sx6Z9ux1XaGXwH8Cq8E-1y",
      "authorship_tag": "ABX9TyOWrHnutvFBgemVC5B7Ko1n",
      "include_colab_link": true
    },
    "kernelspec": {
      "name": "python3",
      "display_name": "Python 3"
    },
    "language_info": {
      "name": "python"
    }
  },
  "cells": [
    {
      "cell_type": "markdown",
      "metadata": {
        "id": "view-in-github",
        "colab_type": "text"
      },
      "source": [
        "<a href=\"https://colab.research.google.com/github/jackarl/programacion_analitica/blob/main/Pr%C3%A1ctica_15_Datos_Temporales.ipynb\" target=\"_parent\"><img src=\"https://colab.research.google.com/assets/colab-badge.svg\" alt=\"Open In Colab\"/></a>"
      ]
    },
    {
      "cell_type": "markdown",
      "source": [
        "Práctica #15: Datos Temporales"
      ],
      "metadata": {
        "id": "YJIGEC3NMUdd"
      }
    },
    {
      "cell_type": "markdown",
      "source": [
        "El objetivo de esta actividad es que los estudiantes practiquen los temas vistos de limpieza y transformación de datos categóricos.\n",
        "\n",
        "Instrucciones:\n",
        "\n",
        "Descarga el archivo airdata.csv, proporcionado en esta tarea. También lo puedes encontrar en recursos.\n",
        "Crea un notebook en colab y guarda el archivo csv  en tu drive.\n",
        "Agrega secciones en el colab poniendo como título el nombre de cada ejercicio"
      ],
      "metadata": {
        "id": "ZnwNqfFkMYy0"
      }
    },
    {
      "cell_type": "markdown",
      "source": [
        "_______________________________________________________________________"
      ],
      "metadata": {
        "id": "PRJ210AKTjdN"
      }
    },
    {
      "cell_type": "markdown",
      "source": [
        "Ejercicio 01:Tipo de Datos Correcto\n",
        "\n",
        "Carga el conjunto de datos airdata.csv y verifica que cada columna tenga el tipo de datos correcto\n",
        "Si una columna de tipo temporal no está en el tipo de correcto realiza la conversión.\n",
        "Usa dtypes para mostrar que cada columna, principalmente la que contiene datos temporales, está en el tipo de datos correcto\n",
        "Imprime las primeras tres líneas"
      ],
      "metadata": {
        "id": "lnEzJd_ASL0R"
      }
    },
    {
      "cell_type": "code",
      "execution_count": 2,
      "metadata": {
        "id": "Js86AZPgMDyy"
      },
      "outputs": [],
      "source": [
        "import pandas as pd"
      ]
    },
    {
      "cell_type": "code",
      "source": [
        "df = pd.read_csv('/content/drive/MyDrive/Colab Notebooks/ClassFiles/datesets/Airdata.csv')\n",
        "print(df.head(3))\n",
        "df.dtypes"
      ],
      "metadata": {
        "colab": {
          "base_uri": "https://localhost:8080/",
          "height": 499
        },
        "id": "q-GfBQHJOJI-",
        "outputId": "b5d0f5eb-1ab9-42bb-8e6a-544c834007ee"
      },
      "execution_count": 3,
      "outputs": [
        {
          "output_type": "stream",
          "name": "stdout",
          "text": [
            "        DateTime  Temperature  Humidity  Wind_Speed  Wind_Direction  \\\n",
            "0  1/1/2020 0:00     2.180529        87    1.484318        75.96376   \n",
            "1  1/1/2020 1:00     1.490529        89    2.741678       113.19859   \n",
            "2  1/1/2020 2:00     1.690529        85    3.563818       135.00000   \n",
            "\n",
            "   NO2_Location_A  NO2_Location_B  NO2_Location_C  \n",
            "0           39.23           52.88           62.37  \n",
            "1           38.30           44.95           52.53  \n",
            "2             NaN           48.40           54.80  \n"
          ]
        },
        {
          "output_type": "execute_result",
          "data": {
            "text/plain": [
              "DateTime           object\n",
              "Temperature       float64\n",
              "Humidity            int64\n",
              "Wind_Speed        float64\n",
              "Wind_Direction    float64\n",
              "NO2_Location_A    float64\n",
              "NO2_Location_B    float64\n",
              "NO2_Location_C    float64\n",
              "dtype: object"
            ],
            "text/html": [
              "<div>\n",
              "<style scoped>\n",
              "    .dataframe tbody tr th:only-of-type {\n",
              "        vertical-align: middle;\n",
              "    }\n",
              "\n",
              "    .dataframe tbody tr th {\n",
              "        vertical-align: top;\n",
              "    }\n",
              "\n",
              "    .dataframe thead th {\n",
              "        text-align: right;\n",
              "    }\n",
              "</style>\n",
              "<table border=\"1\" class=\"dataframe\">\n",
              "  <thead>\n",
              "    <tr style=\"text-align: right;\">\n",
              "      <th></th>\n",
              "      <th>0</th>\n",
              "    </tr>\n",
              "  </thead>\n",
              "  <tbody>\n",
              "    <tr>\n",
              "      <th>DateTime</th>\n",
              "      <td>object</td>\n",
              "    </tr>\n",
              "    <tr>\n",
              "      <th>Temperature</th>\n",
              "      <td>float64</td>\n",
              "    </tr>\n",
              "    <tr>\n",
              "      <th>Humidity</th>\n",
              "      <td>int64</td>\n",
              "    </tr>\n",
              "    <tr>\n",
              "      <th>Wind_Speed</th>\n",
              "      <td>float64</td>\n",
              "    </tr>\n",
              "    <tr>\n",
              "      <th>Wind_Direction</th>\n",
              "      <td>float64</td>\n",
              "    </tr>\n",
              "    <tr>\n",
              "      <th>NO2_Location_A</th>\n",
              "      <td>float64</td>\n",
              "    </tr>\n",
              "    <tr>\n",
              "      <th>NO2_Location_B</th>\n",
              "      <td>float64</td>\n",
              "    </tr>\n",
              "    <tr>\n",
              "      <th>NO2_Location_C</th>\n",
              "      <td>float64</td>\n",
              "    </tr>\n",
              "  </tbody>\n",
              "</table>\n",
              "</div><br><label><b>dtype:</b> object</label>"
            ]
          },
          "metadata": {},
          "execution_count": 3
        }
      ]
    },
    {
      "cell_type": "markdown",
      "source": [
        "Ejercicio 02: Extraer componentes de fecha y tiempo\n",
        "\n",
        "De la columna 'DateTime' extrae el año, mes, día y hora. Crea una nueva columna para cada componente que extraes\n",
        "Imprime las primeras tres líneas del dataframe que ahora deberá tener 4 nuevas columnas."
      ],
      "metadata": {
        "id": "cK7T47qRUijq"
      }
    },
    {
      "cell_type": "code",
      "source": [
        "df.DateTime = pd.to_datetime(df.DateTime)\n",
        "df['Year'] = df.DateTime.dt.year\n",
        "df['Month'] = df.DateTime.dt.month\n",
        "df['Day'] = df.DateTime.dt.day\n",
        "df['Hour'] = df.DateTime.dt.hour\n",
        "print(df.head(3))"
      ],
      "metadata": {
        "id": "QI8AwkkyX9YX",
        "colab": {
          "base_uri": "https://localhost:8080/"
        },
        "outputId": "1a0b02b9-f794-42fc-cec4-73cc275fd5e7"
      },
      "execution_count": 5,
      "outputs": [
        {
          "output_type": "stream",
          "name": "stdout",
          "text": [
            "             DateTime  Temperature  Humidity  Wind_Speed  Wind_Direction  \\\n",
            "0 2020-01-01 00:00:00     2.180529        87    1.484318        75.96376   \n",
            "1 2020-01-01 01:00:00     1.490529        89    2.741678       113.19859   \n",
            "2 2020-01-01 02:00:00     1.690529        85    3.563818       135.00000   \n",
            "\n",
            "   NO2_Location_A  NO2_Location_B  NO2_Location_C  Year  Month  Day  Hour  \n",
            "0           39.23           52.88           62.37  2020      1    1     0  \n",
            "1           38.30           44.95           52.53  2020      1    1     1  \n",
            "2             NaN           48.40           54.80  2020      1    1     2  \n"
          ]
        }
      ]
    },
    {
      "cell_type": "markdown",
      "source": [
        "Ejercicio 03: Aritmética - Suma de Intervalos (timedelta)\n",
        "\n",
        "Suma 10 días, 7 horas y 15 minutos a cada elemento de la columna 'DateTime'. Guarda el resultado en una nueva columna y agrega al dataframe.\n",
        "Imprime la columna 'DateTime' y la columna que resulta de sumar 10 días, 7 horas y 15 minutos"
      ],
      "metadata": {
        "id": "aVVApaistFyP"
      }
    },
    {
      "cell_type": "code",
      "source": [
        "# Convertir a datetime y sumar intervalo\n",
        "df['DateTime'] = pd.to_datetime(df['DateTime'], format='%d/%m/%Y %H:%M')\n",
        "delta = pd.Timedelta(days=10, hours=7, minutes=15)\n",
        "df['DateTime_New'] = df['DateTime'] + delta\n",
        "print(df[['DateTime', 'DateTime_New']].head(3).to_markdown(index=False))"
      ],
      "metadata": {
        "colab": {
          "base_uri": "https://localhost:8080/"
        },
        "id": "euU6IfXyupqp",
        "outputId": "7c8d5285-34f9-4acb-bc73-009e54d26e39"
      },
      "execution_count": 8,
      "outputs": [
        {
          "output_type": "stream",
          "name": "stdout",
          "text": [
            "|    DateTime |   DateTime_New |\n",
            "|------------:|---------------:|\n",
            "| 1.57784e+18 |    1.57873e+18 |\n",
            "| 1.57784e+18 |    1.57873e+18 |\n",
            "| 1.57784e+18 |    1.57873e+18 |\n"
          ]
        }
      ]
    },
    {
      "cell_type": "code",
      "source": [
        "print(df.head())"
      ],
      "metadata": {
        "colab": {
          "base_uri": "https://localhost:8080/"
        },
        "id": "QNkx3wj1u3sP",
        "outputId": "f7d35978-7b64-4735-a4ef-607f06fdccf3"
      },
      "execution_count": 10,
      "outputs": [
        {
          "output_type": "stream",
          "name": "stdout",
          "text": [
            "             DateTime  Temperature  Humidity  Wind_Speed  Wind_Direction  \\\n",
            "0 2020-01-01 00:00:00     2.180529        87    1.484318       75.963760   \n",
            "1 2020-01-01 01:00:00     1.490529        89    2.741678      113.198590   \n",
            "2 2020-01-01 02:00:00     1.690529        85    3.563818      135.000000   \n",
            "3 2020-01-01 03:00:00     1.430529        84    2.811690      129.805570   \n",
            "4 2020-01-01 04:00:00     0.840529        86    1.800000      126.869896   \n",
            "\n",
            "   NO2_Location_A  NO2_Location_B  NO2_Location_C  Year  Month  Day  Hour  \\\n",
            "0           39.23           52.88           62.37  2020      1    1     0   \n",
            "1           38.30           44.95           52.53  2020      1    1     1   \n",
            "2             NaN           48.40           54.80  2020      1    1     2   \n",
            "3           37.28           47.18           50.80  2020      1    1     3   \n",
            "4           29.97           41.48           54.43  2020      1    1     4   \n",
            "\n",
            "         DateTime_New  \n",
            "0 2020-01-11 07:15:00  \n",
            "1 2020-01-11 08:15:00  \n",
            "2 2020-01-11 09:15:00  \n",
            "3 2020-01-11 10:15:00  \n",
            "4 2020-01-11 11:15:00  \n"
          ]
        }
      ]
    },
    {
      "cell_type": "markdown",
      "source": [
        "Ejercicio 04: Timestamp\n",
        "\n",
        "Convierte la columna 'DateTime' la cual tiene un formato de fecha legible a a timestamp Unix. Guarda el resultado en una nueva columna\n",
        "Imprime las primeras tres filas de  la columna 'DateTime' y la columna que representa dicha fecha en timestamp Unix"
      ],
      "metadata": {
        "id": "advHhVyPtVUc"
      }
    },
    {
      "cell_type": "code",
      "source": [
        "df[\"unix_timestamp\"] = pd.to_datetime(df[\"DateTime\"]).astype(int) // 10**9\n",
        "print(df[[\"DateTime\", \"unix_timestamp\"]].head(3).to_markdown(index=False))"
      ],
      "metadata": {
        "colab": {
          "base_uri": "https://localhost:8080/"
        },
        "id": "vCoYI4kLwI4c",
        "outputId": "2d9c0007-416d-4ba6-c74e-97b7640543de"
      },
      "execution_count": 11,
      "outputs": [
        {
          "output_type": "stream",
          "name": "stdout",
          "text": [
            "| DateTime            |   unix_timestamp |\n",
            "|:--------------------|-----------------:|\n",
            "| 2020-01-01 00:00:00 |       1577836800 |\n",
            "| 2020-01-01 01:00:00 |       1577840400 |\n",
            "| 2020-01-01 02:00:00 |       1577844000 |\n"
          ]
        }
      ]
    },
    {
      "cell_type": "markdown",
      "source": [
        "Ejercicio 05: Filtrado de Fechas\n",
        "\n",
        "Utiliza la columna 'DateTime' y Filtra aquellas fechas que son mayores a 2020-11-01\n",
        "Imprime el resultado"
      ],
      "metadata": {
        "id": "Yg0Ux-jktZqc"
      }
    },
    {
      "cell_type": "code",
      "source": [
        "df.shape"
      ],
      "metadata": {
        "colab": {
          "base_uri": "https://localhost:8080/"
        },
        "id": "lhwiLnNJsxch",
        "outputId": "6c3604b2-3f3a-4f5e-d141-a139ec43e15f"
      },
      "execution_count": 13,
      "outputs": [
        {
          "output_type": "execute_result",
          "data": {
            "text/plain": [
              "(8784, 14)"
            ]
          },
          "metadata": {},
          "execution_count": 13
        }
      ]
    },
    {
      "cell_type": "code",
      "source": [
        "mayor_2020_11_01 = df[df[\"DateTime\"] > \"2020-11-01\"]\n",
        "print(mayor_2020_11_01)"
      ],
      "metadata": {
        "colab": {
          "base_uri": "https://localhost:8080/"
        },
        "id": "hS0MayYLyN-6",
        "outputId": "efff86b4-3b84-453b-95b7-ff5cc5953510"
      },
      "execution_count": 16,
      "outputs": [
        {
          "output_type": "stream",
          "name": "stdout",
          "text": [
            "                DateTime  Temperature  Humidity  Wind_Speed  Wind_Direction  \\\n",
            "7321 2020-11-01 01:00:00    13.620529        58    6.638072       130.60129   \n",
            "7322 2020-11-01 02:00:00    13.980529        40    6.618519       157.61987   \n",
            "7323 2020-11-01 03:00:00    13.010529        43    8.209263       164.74487   \n",
            "7324 2020-11-01 04:00:00    12.190529        51    7.568566       154.65382   \n",
            "7325 2020-11-01 05:00:00    12.510529        59    7.594208       148.57043   \n",
            "...                  ...          ...       ...         ...             ...   \n",
            "8779 2020-12-31 19:00:00     4.920528        72    4.553680       251.56506   \n",
            "8780 2020-12-31 20:00:00     4.990529        74    3.259939       186.34020   \n",
            "8781 2020-12-31 21:00:00     4.360529        84   10.587917       252.18112   \n",
            "8782 2020-12-31 22:00:00     3.820528        88    8.435069       219.80557   \n",
            "8783 2020-12-31 23:00:00     3.170529        89    6.792466       212.00539   \n",
            "\n",
            "      NO2_Location_A  NO2_Location_B  NO2_Location_C  Year  Month  Day  Hour  \\\n",
            "7321           17.50           23.88           44.07  2020     11    1     1   \n",
            "7322           13.38           18.92           35.80  2020     11    1     2   \n",
            "7323           11.95           13.95           30.15  2020     11    1     3   \n",
            "7324           10.10           14.35           31.45  2020     11    1     4   \n",
            "7325           10.30           14.42           32.55  2020     11    1     5   \n",
            "...              ...             ...             ...   ...    ...  ...   ...   \n",
            "8779           53.44           32.65           66.82  2020     12   31    19   \n",
            "8780           49.80           34.03           67.31  2020     12   31    20   \n",
            "8781           43.32           25.55           59.33  2020     12   31    21   \n",
            "8782           39.88           19.90           43.70  2020     12   31    22   \n",
            "8783           39.04           30.33           46.87  2020     12   31    23   \n",
            "\n",
            "            DateTime_New  unix_timestamp  \n",
            "7321 2020-11-11 08:15:00      1604192400  \n",
            "7322 2020-11-11 09:15:00      1604196000  \n",
            "7323 2020-11-11 10:15:00      1604199600  \n",
            "7324 2020-11-11 11:15:00      1604203200  \n",
            "7325 2020-11-11 12:15:00      1604206800  \n",
            "...                  ...             ...  \n",
            "8779 2021-01-11 02:15:00      1609441200  \n",
            "8780 2021-01-11 03:15:00      1609444800  \n",
            "8781 2021-01-11 04:15:00      1609448400  \n",
            "8782 2021-01-11 05:15:00      1609452000  \n",
            "8783 2021-01-11 06:15:00      1609455600  \n",
            "\n",
            "[1463 rows x 14 columns]\n"
          ]
        }
      ]
    },
    {
      "cell_type": "code",
      "source": [],
      "metadata": {
        "id": "I4hlnPody00Y"
      },
      "execution_count": null,
      "outputs": []
    }
  ]
}