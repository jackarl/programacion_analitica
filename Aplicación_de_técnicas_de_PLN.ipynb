{
  "nbformat": 4,
  "nbformat_minor": 0,
  "metadata": {
    "colab": {
      "provenance": [],
      "mount_file_id": "150vBDfh1m3HkDlvoERljYRCep0rG8PqV",
      "authorship_tag": "ABX9TyNOeS0cfdoghLXkbvG/7h8Y",
      "include_colab_link": true
    },
    "kernelspec": {
      "name": "python3",
      "display_name": "Python 3"
    },
    "language_info": {
      "name": "python"
    }
  },
  "cells": [
    {
      "cell_type": "markdown",
      "metadata": {
        "id": "view-in-github",
        "colab_type": "text"
      },
      "source": [
        "<a href=\"https://colab.research.google.com/github/jackarl/programacion_analitica/blob/main/Aplicaci%C3%B3n_de_t%C3%A9cnicas_de_PLN.ipynb\" target=\"_parent\"><img src=\"https://colab.research.google.com/assets/colab-badge.svg\" alt=\"Open In Colab\"/></a>"
      ]
    },
    {
      "cell_type": "markdown",
      "source": [
        "## **Aplicación de técnicas de PLN (ejercicio planteado en clase)**:"
      ],
      "metadata": {
        "id": "7rUj0ZtWlrAd"
      }
    },
    {
      "cell_type": "markdown",
      "source": [
        "la solución del ejercicio presentado en clase consistente en aplicar las técnicas de PLN que usted considera necesarias a fin de cumplir con la etapa de preprocesamiento del texto propuesto."
      ],
      "metadata": {
        "id": "zXMFIOS-lKIQ"
      }
    },
    {
      "cell_type": "markdown",
      "source": [
        "En este espacio deberá compartir en formato PDF, El documento PDF que entregue deberá explicar la razón de la elección de cada técnica y/o comando. Incluya las capturas de pantalla resultado de la ejecución de los comandos."
      ],
      "metadata": {
        "id": "xl1Bd2b7lcil"
      }
    },
    {
      "cell_type": "code",
      "source": [
        "from google.colab import drive\n",
        "drive.mount('/content/drive')"
      ],
      "metadata": {
        "colab": {
          "base_uri": "https://localhost:8080/"
        },
        "id": "pTU1NYufo2Ch",
        "outputId": "deb2c41d-cef0-41b0-c32b-d419c3869f3a"
      },
      "execution_count": 98,
      "outputs": [
        {
          "output_type": "stream",
          "name": "stdout",
          "text": [
            "Drive already mounted at /content/drive; to attempt to forcibly remount, call drive.mount(\"/content/drive\", force_remount=True).\n"
          ]
        }
      ]
    },
    {
      "cell_type": "code",
      "execution_count": 99,
      "metadata": {
        "id": "PZNPZMQIlJmq"
      },
      "outputs": [],
      "source": [
        "import re"
      ]
    },
    {
      "cell_type": "code",
      "source": [
        "tx = open('/content/drive/MyDrive/MIAAD/2do semestre/NLP/Semana 3/Regular expressions activity/textoParaPreprocesar.txt', 'r')"
      ],
      "metadata": {
        "id": "YgjmkxNpoZCP"
      },
      "execution_count": 100,
      "outputs": []
    },
    {
      "cell_type": "code",
      "source": [
        "read = tx.readlines()   # https://www.youtube.com/watch?v=DCaKj3eIrro to work with txt files\n",
        "read"
      ],
      "metadata": {
        "colab": {
          "base_uri": "https://localhost:8080/"
        },
        "id": "rOG4w4eHp9zO",
        "outputId": "9b41fd21-3b41-43e8-f6d1-02c84e603d2b"
      },
      "execution_count": 101,
      "outputs": [
        {
          "output_type": "execute_result",
          "data": {
            "text/plain": [
              "['\"\"\"En el Congreso Internacional de Inteligencia Artificial 2025 se discutieron avances muy importantes.\\n',\n",
              " '@Maria comentó que la ética de la IA debe estar siempre en el centro de las investigaciones.\\n',\n",
              " 'Puedes leer más en http://ia-congreso2025.org o enviar tus dudas al correo contacto@ia2025.org.\\n',\n",
              " 'El Dr. Pérez afirmó: \"¡La innovación no se detiene!\". #InteligenciaArtificial #ÉticaDigital\\n',\n",
              " 'Además, varios expertos señalaron que la inteligencia artificial, la inteligencia artificial\\n',\n",
              " 'y la inteligencia artificial aparecen repetidamente en los debates académicos.\"\"\"']"
            ]
          },
          "metadata": {},
          "execution_count": 101
        }
      ]
    },
    {
      "cell_type": "code",
      "source": [
        "mod = []\n",
        "for line in read:\n",
        "  mod.append(line)\n",
        "print(mod)"
      ],
      "metadata": {
        "colab": {
          "base_uri": "https://localhost:8080/"
        },
        "id": "gkpxh31n0NdQ",
        "outputId": "ad703681-42ed-4875-dba2-2a3b96faa467"
      },
      "execution_count": 102,
      "outputs": [
        {
          "output_type": "stream",
          "name": "stdout",
          "text": [
            "['\"\"\"En el Congreso Internacional de Inteligencia Artificial 2025 se discutieron avances muy importantes.\\n', '@Maria comentó que la ética de la IA debe estar siempre en el centro de las investigaciones.\\n', 'Puedes leer más en http://ia-congreso2025.org o enviar tus dudas al correo contacto@ia2025.org.\\n', 'El Dr. Pérez afirmó: \"¡La innovación no se detiene!\". #InteligenciaArtificial #ÉticaDigital\\n', 'Además, varios expertos señalaron que la inteligencia artificial, la inteligencia artificial\\n', 'y la inteligencia artificial aparecen repetidamente en los debates académicos.\"\"\"']\n"
          ]
        }
      ]
    },
    {
      "cell_type": "code",
      "source": [
        "type(mod)"
      ],
      "metadata": {
        "colab": {
          "base_uri": "https://localhost:8080/"
        },
        "id": "zuKfyCyQ0pmZ",
        "outputId": "cc0d406f-fb89-449c-b356-1829be10d420"
      },
      "execution_count": 103,
      "outputs": [
        {
          "output_type": "execute_result",
          "data": {
            "text/plain": [
              "list"
            ]
          },
          "metadata": {},
          "execution_count": 103
        }
      ]
    },
    {
      "cell_type": "code",
      "source": [
        "text = \" \".join(map(str, mod))\n",
        "print(text)"
      ],
      "metadata": {
        "id": "y3uWNOzI07Qz",
        "colab": {
          "base_uri": "https://localhost:8080/"
        },
        "outputId": "2522e083-d549-4037-99df-f9b3a14939dd"
      },
      "execution_count": 104,
      "outputs": [
        {
          "output_type": "stream",
          "name": "stdout",
          "text": [
            "\"\"\"En el Congreso Internacional de Inteligencia Artificial 2025 se discutieron avances muy importantes.\n",
            " @Maria comentó que la ética de la IA debe estar siempre en el centro de las investigaciones.\n",
            " Puedes leer más en http://ia-congreso2025.org o enviar tus dudas al correo contacto@ia2025.org.\n",
            " El Dr. Pérez afirmó: \"¡La innovación no se detiene!\". #InteligenciaArtificial #ÉticaDigital\n",
            " Además, varios expertos señalaron que la inteligencia artificial, la inteligencia artificial\n",
            " y la inteligencia artificial aparecen repetidamente en los debates académicos.\"\"\"\n"
          ]
        }
      ]
    },
    {
      "cell_type": "code",
      "source": [
        "type(text)"
      ],
      "metadata": {
        "colab": {
          "base_uri": "https://localhost:8080/"
        },
        "id": "1p9X7HES4GN_",
        "outputId": "78d12d48-6ab8-4c4f-e816-a87ee64d8a66"
      },
      "execution_count": 105,
      "outputs": [
        {
          "output_type": "execute_result",
          "data": {
            "text/plain": [
              "str"
            ]
          },
          "metadata": {},
          "execution_count": 105
        }
      ]
    },
    {
      "cell_type": "code",
      "source": [
        "#Extraer mencion en X\n",
        "X_tweet = re.findall(r' \\@\\w+', text)\n",
        "print(X_tweet)"
      ],
      "metadata": {
        "colab": {
          "base_uri": "https://localhost:8080/"
        },
        "id": "DIFCJjzRqhEZ",
        "outputId": "b561ae01-7320-409e-eee7-7a975c825cd9"
      },
      "execution_count": 106,
      "outputs": [
        {
          "output_type": "stream",
          "name": "stdout",
          "text": [
            "[' @Maria']\n"
          ]
        }
      ]
    },
    {
      "cell_type": "code",
      "source": [
        "URL_S = re.findall(r'http?://\\S+|www\\.S+', text) #Extraer url's\n",
        "print(URL_S)"
      ],
      "metadata": {
        "colab": {
          "base_uri": "https://localhost:8080/"
        },
        "id": "fcLwaTSowRrp",
        "outputId": "7f3532dc-2f94-498c-a58c-5887a06c3dc0"
      },
      "execution_count": 107,
      "outputs": [
        {
          "output_type": "stream",
          "name": "stdout",
          "text": [
            "['http://ia-congreso2025.org']\n"
          ]
        }
      ]
    },
    {
      "cell_type": "code",
      "source": [
        "correo = re.findall(r'\\s[A-Za-z0-9._%$*!?+-]+@[A-Za-z0-9.-]+\\.[A-Z|a-z]{2,}\\b', text)\n",
        "print(correo)"
      ],
      "metadata": {
        "colab": {
          "base_uri": "https://localhost:8080/"
        },
        "id": "ncGlPNYX7b6D",
        "outputId": "679d52b5-d4be-46d3-d130-6d62b52b54cf"
      },
      "execution_count": 108,
      "outputs": [
        {
          "output_type": "stream",
          "name": "stdout",
          "text": [
            "[' contacto@ia2025.org']\n"
          ]
        }
      ]
    },
    {
      "cell_type": "code",
      "source": [
        "hashtag = re.findall(r'#\\w+', text)\n",
        "print(hashtag)"
      ],
      "metadata": {
        "colab": {
          "base_uri": "https://localhost:8080/"
        },
        "id": "OQq9f16k8psm",
        "outputId": "8238c73a-8d73-4434-9b9d-3f66762e8a84"
      },
      "execution_count": 109,
      "outputs": [
        {
          "output_type": "stream",
          "name": "stdout",
          "text": [
            "['#InteligenciaArtificial', '#ÉticaDigital']\n"
          ]
        }
      ]
    }
  ]
}