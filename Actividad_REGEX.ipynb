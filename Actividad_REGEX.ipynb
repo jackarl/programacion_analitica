{
  "nbformat": 4,
  "nbformat_minor": 0,
  "metadata": {
    "colab": {
      "provenance": [],
      "mount_file_id": "1UM7vrlhdoTlocAC1JQDJvtewSj3g3kc2",
      "authorship_tag": "ABX9TyMqBtICHfNDe0f8IPDJJLa3",
      "include_colab_link": true
    },
    "kernelspec": {
      "name": "python3",
      "display_name": "Python 3"
    },
    "language_info": {
      "name": "python"
    }
  },
  "cells": [
    {
      "cell_type": "markdown",
      "metadata": {
        "id": "view-in-github",
        "colab_type": "text"
      },
      "source": [
        "<a href=\"https://colab.research.google.com/github/jackarl/programacion_analitica/blob/main/Actividad_REGEX.ipynb\" target=\"_parent\"><img src=\"https://colab.research.google.com/assets/colab-badge.svg\" alt=\"Open In Colab\"/></a>"
      ]
    },
    {
      "cell_type": "markdown",
      "source": [
        "**Actividad 3: Ejercicio de expresiones regulares**\n",
        "\n",
        "Objetivo de la actividad\n",
        "\n",
        "El estudiante usa los diferentes comandos y reconoce los patrones revisados en clase a ﬁn de encontrar las expresiones regulares a un texto real en un entorno de desarrollo integrado en línea.  \n",
        "\n",
        "Trabajando en la nube con Google Colab o localmente en tu equipo de cómputo, considera los siguientes párrafos y crea en un código de programación en Python las expresiones regulares adecuadas para las siguientes actividades.\n",
        "\n",
        "Identiﬁca en tu código el número de la actividad desarrollada.\n",
        "\n",
        "No olvides instalar las librerías adecuadas (en caso de ser necesario)."
      ],
      "metadata": {
        "id": "7tvc-uTPPb8r"
      }
    },
    {
      "cell_type": "markdown",
      "source": [
        "--------------------------------------------------------------------------------"
      ],
      "metadata": {
        "id": "-it5U7QjRUGW"
      }
    },
    {
      "cell_type": "markdown",
      "source": [
        "Instrucciones:\n",
        "\n",
        "\n",
        "1.   Extraer todas las direcciones de correo electrónico.\n",
        "2.   Extraer todas las URLs (con o sin protocolo).\n",
        "3.   Validar y extraer números de teléfono en formato internacional y nacional.\n",
        "4.   Extraer fechas en formato yyyy-MM-dd.\n",
        "5.   Extraer códigos postales de 5 dígitos.\n",
        "6.   Extraer DNI (8 dígitos seguidos de letra mayúscula).\n",
        "7.   Extraer menciones de Twitter.\n",
        "8.   Extraer hashtags.\n",
        "9.   Extraer direcciones IP.\n",
        "10. Extraer importes monetarios (con $ y decimales).\n",
        "11. Eliminar letras repetidas."
      ],
      "metadata": {
        "id": "lhtn1zBtQVto"
      }
    },
    {
      "cell_type": "markdown",
      "source": [
        "pip install python-docx"
      ],
      "metadata": {
        "id": "rzDX8196VRek"
      }
    },
    {
      "cell_type": "code",
      "source": [
        "pip install python-docx"
      ],
      "metadata": {
        "colab": {
          "base_uri": "https://localhost:8080/"
        },
        "id": "Sp6Gx5KZTnnI",
        "outputId": "aa0f4a33-e431-4c3e-d6c3-ec0135cc2894"
      },
      "execution_count": 1,
      "outputs": [
        {
          "output_type": "stream",
          "name": "stdout",
          "text": [
            "Collecting python-docx\n",
            "  Downloading python_docx-1.2.0-py3-none-any.whl.metadata (2.0 kB)\n",
            "Requirement already satisfied: lxml>=3.1.0 in /usr/local/lib/python3.12/dist-packages (from python-docx) (5.4.0)\n",
            "Requirement already satisfied: typing_extensions>=4.9.0 in /usr/local/lib/python3.12/dist-packages (from python-docx) (4.14.1)\n",
            "Downloading python_docx-1.2.0-py3-none-any.whl (252 kB)\n",
            "\u001b[?25l   \u001b[90m━━━━━━━━━━━━━━━━━━━━━━━━━━━━━━━━━━━━━━━━\u001b[0m \u001b[32m0.0/253.0 kB\u001b[0m \u001b[31m?\u001b[0m eta \u001b[36m-:--:--\u001b[0m\r\u001b[2K   \u001b[90m━━━━━━━━━━━━━━━━━━━━━━━━━━━━━━━━━━━━━━━━\u001b[0m \u001b[32m253.0/253.0 kB\u001b[0m \u001b[31m12.2 MB/s\u001b[0m eta \u001b[36m0:00:00\u001b[0m\n",
            "\u001b[?25hInstalling collected packages: python-docx\n",
            "Successfully installed python-docx-1.2.0\n"
          ]
        }
      ]
    },
    {
      "cell_type": "code",
      "execution_count": 47,
      "metadata": {
        "id": "fC-0mE3zOLp-"
      },
      "outputs": [],
      "source": [
        "import pandas as pd #for tabular files such as csv or xcel\n",
        "from google.colab import files\n",
        "import docx\n",
        "import re\n",
        "from docx import Document"
      ]
    },
    {
      "cell_type": "code",
      "source": [
        "XDOC = Document(\"/content/drive/MyDrive/MIAAD/2do semestre/NLP/Regular expressions activity/REGEX.docx\")"
      ],
      "metadata": {
        "id": "qxWeaBHmU8jd"
      },
      "execution_count": 57,
      "outputs": []
    },
    {
      "cell_type": "code",
      "source": [
        "#Extraje el texto manual, queria extraer directo del documento pero al momento no logre hacerlo\n",
        "\n",
        "tx = 'El 10 de agosto de 2025, María Pérez envió un correo electrónico a la dirección maria.perez@email.com solicitando información sobre el producto X-200. Su número de teléfono es +34 612-345-678. Además, visitó la web https://www.ejemplo.com para consultar precios y disponibilidad. El servidor registró el acceso desde la IP 192.168.1.15 a las 14:23:56, y se detectó un error en el log con código ERR500. En Twitter, el usuario @DataAnalyst comentó: \"Los modelos de IA son el futuro #MachineLearning #IA2025\". El totaal de la compra fue de $199.99, y el cliente pagó con tarjeta VISA terminada en 1234.'\n",
        "'Por otro lado, el DNI de Juan García es 12345678Z y su código postal 28080. Para más información, puede llamar al 911 234 567 o visitar www.informacion.es. Recordamos que las feechas límite para inscripción son 2025-09-30 y 2025-10-15.'\n"
      ],
      "metadata": {
        "colab": {
          "base_uri": "https://localhost:8080/",
          "height": 53
        },
        "id": "CClJJeFis9XX",
        "outputId": "7b2a3dd2-bfe7-4459-e965-55f15eef1f2f"
      },
      "execution_count": 67,
      "outputs": [
        {
          "output_type": "execute_result",
          "data": {
            "text/plain": [
              "'Por otro lado, el DNI de Juan García es 12345678Z y su código postal 28080. Para más información, puede llamar al 911 234 567 o visitar www.informacion.es. Recordamos que las feechas límite para inscripción son 2025-09-30 y 2025-10-15.'"
            ],
            "application/vnd.google.colaboratory.intrinsic+json": {
              "type": "string"
            }
          },
          "metadata": {},
          "execution_count": 67
        }
      ]
    },
    {
      "cell_type": "code",
      "source": [
        "a = re.match(r'\\d+', tx)\n",
        "print(a)"
      ],
      "metadata": {
        "colab": {
          "base_uri": "https://localhost:8080/"
        },
        "id": "LiQVH4-QXIDd",
        "outputId": "affa5ce6-7d86-426b-95b2-f1f19d1cfea3"
      },
      "execution_count": 66,
      "outputs": [
        {
          "output_type": "stream",
          "name": "stdout",
          "text": [
            "None\n"
          ]
        }
      ]
    },
    {
      "cell_type": "code",
      "source": [
        "b = re.search(r'\\d+', tx)\n",
        "print(b)"
      ],
      "metadata": {
        "colab": {
          "base_uri": "https://localhost:8080/"
        },
        "id": "2dKeMzKaXQuM",
        "outputId": "5e051520-fd17-460b-b2c2-e09209d1818e"
      },
      "execution_count": 68,
      "outputs": [
        {
          "output_type": "stream",
          "name": "stdout",
          "text": [
            "<re.Match object; span=(3, 5), match='10'>\n"
          ]
        }
      ]
    },
    {
      "cell_type": "code",
      "source": [
        "m = re.findall(r'\\d+', tx) #find all digits\n",
        "print(m)"
      ],
      "metadata": {
        "colab": {
          "base_uri": "https://localhost:8080/"
        },
        "id": "oK4qjwMKV0Nl",
        "outputId": "a9ed3f93-689d-4640-8117-6d586f9b820d"
      },
      "execution_count": 69,
      "outputs": [
        {
          "output_type": "stream",
          "name": "stdout",
          "text": [
            "['10', '2025', '200', '34', '612', '345', '678', '192', '168', '1', '15', '14', '23', '56', '500', '2025', '199', '99', '1234']\n"
          ]
        }
      ]
    },
    {
      "cell_type": "code",
      "source": [
        "match = re.finditer(r'\\d+', tx) #iteration\n",
        "for n in match:\n",
        "  print(n.group(), n.start(), n.end())\n",
        "\n",
        "# 10 3 5 ← value found, starts in index 3, and in index 5\n",
        "# 2025 19 23 ← value found, starts in index 19, and in index 23 ann do on in the others"
      ],
      "metadata": {
        "colab": {
          "base_uri": "https://localhost:8080/"
        },
        "id": "MOD4vtWeaLvH",
        "outputId": "bfc3c507-83ba-4920-85d4-35cc44310211"
      },
      "execution_count": 70,
      "outputs": [
        {
          "output_type": "stream",
          "name": "stdout",
          "text": [
            "10 3 5\n",
            "2025 19 23\n",
            "200 146 149\n",
            "34 177 179\n",
            "612 180 183\n",
            "345 184 187\n",
            "678 188 191\n",
            "192 323 326\n",
            "168 327 330\n",
            "1 331 332\n",
            "15 333 335\n",
            "14 342 344\n",
            "23 345 347\n",
            "56 348 350\n",
            "500 398 401\n",
            "2025 501 505\n",
            "199 539 542\n",
            "99 543 545\n",
            "1234 595 599\n"
          ]
        }
      ]
    },
    {
      "cell_type": "code",
      "source": [
        "r'^'"
      ],
      "metadata": {
        "id": "OhChYDDx9HQC"
      },
      "execution_count": null,
      "outputs": []
    },
    {
      "cell_type": "code",
      "source": [
        "r = re.split(r'\\s', tx)\n",
        "print(r)\n",
        "\n",
        "# As the command saids splits each character separeting from spaces"
      ],
      "metadata": {
        "colab": {
          "base_uri": "https://localhost:8080/"
        },
        "id": "9f3hS1k3Y1vo",
        "outputId": "18de3ba6-c80e-4ec1-ed76-9f128c697fd2"
      },
      "execution_count": 97,
      "outputs": [
        {
          "output_type": "stream",
          "name": "stdout",
          "text": [
            "['El', '10', 'de', 'agosto', 'de', '2025,', 'María', 'Pérez', 'envió', 'un', 'correo', 'electrónico', 'a', 'la', 'dirección', 'maria.perez@email.com', 'solicitando', 'información', 'sobre', 'el', 'producto', 'X-200.', 'Su', 'número', 'de', 'teléfono', 'es', '+34', '612-345-678.', 'Además,', 'visitó', 'la', 'web', 'https://www.ejemplo.com', 'para', 'consultar', 'precios', 'y', 'disponibilidad.', 'El', 'servidor', 'registró', 'el', 'acceso', 'desde', 'la', 'IP', '192.168.1.15', 'a', 'las', '14:23:56,', 'y', 'se', 'detectó', 'un', 'error', 'en', 'el', 'log', 'con', 'código', 'ERR500.', 'En', 'Twitter,', 'el', 'usuario', '@DataAnalyst', 'comentó:', '\"Los', 'modelos', 'de', 'IA', 'son', 'el', 'futuro', '#MachineLearning', '#IA2025\".', 'El', 'totaal', 'de', 'la', 'compra', 'fue', 'de', '$199.99,', 'y', 'el', 'cliente', 'pagó', 'con', 'tarjeta', 'VISA', 'terminada', 'en', '1234.']\n"
          ]
        }
      ]
    },
    {
      "cell_type": "code",
      "source": [
        "len('maria.perez@email.com')"
      ],
      "metadata": {
        "colab": {
          "base_uri": "https://localhost:8080/"
        },
        "id": "oaE7OgAA6GS4",
        "outputId": "2a1ec2ee-7ca0-41a2-f50f-b34c53f77264"
      },
      "execution_count": 89,
      "outputs": [
        {
          "output_type": "execute_result",
          "data": {
            "text/plain": [
              "21"
            ]
          },
          "metadata": {},
          "execution_count": 89
        }
      ]
    },
    {
      "cell_type": "code",
      "source": [
        "pat_email = r'^[\\w\\.-]+@[\\w\\.-]+\\.\\w{2,4}$'\n",
        "if re.match(pat_email, tx):\n",
        "  print('Valid')\n",
        "else:\n",
        "  print('Invalid')"
      ],
      "metadata": {
        "colab": {
          "base_uri": "https://localhost:8080/"
        },
        "id": "cvIgh0UvzZXC",
        "outputId": "550ceded-dfd3-469b-c196-4f010693e77d"
      },
      "execution_count": 102,
      "outputs": [
        {
          "output_type": "stream",
          "name": "stdout",
          "text": [
            "Invalid\n"
          ]
        }
      ]
    },
    {
      "cell_type": "code",
      "source": [
        "# pat_email = r'^[\\Maria]+@[\\w\\.-]+\\.\\w{2,4}$' ##??? le estoy diciendo literal que empieza con Maria\n",
        "# if re.match(pat_email, tx):\n",
        "#  print('Valid')\n",
        "# else:\n",
        "#  print('Invalid')"
      ],
      "metadata": {
        "id": "pHAwFC36IVZW"
      },
      "execution_count": 110,
      "outputs": []
    },
    {
      "cell_type": "code",
      "source": [
        "telefono_patron = r'(\\+\\d{1,2}\\s?)?\\d{3}[-\\s]?\\d{3}[-\\s]?\\d{4}'\n",
        "if re.match(telefono_patron, tx):\n",
        "  print('Valid')\n",
        "else:\n",
        "  print('Telefono invalido')"
      ],
      "metadata": {
        "colab": {
          "base_uri": "https://localhost:8080/"
        },
        "id": "Tf8hkR_F41k8",
        "outputId": "09a5ce85-01b9-48bd-ca3b-faab59283511"
      },
      "execution_count": 92,
      "outputs": [
        {
          "output_type": "stream",
          "name": "stdout",
          "text": [
            "Telefono invalido\n"
          ]
        }
      ]
    },
    {
      "cell_type": "code",
      "source": [
        "fecha = re.search(r'\\d+',tx)\n",
        "fecha"
      ],
      "metadata": {
        "colab": {
          "base_uri": "https://localhost:8080/"
        },
        "id": "CEhJ6XGTy6CO",
        "outputId": "4c2cb61c-a7a9-440b-c89a-e3d0aea2bdab"
      },
      "execution_count": 117,
      "outputs": [
        {
          "output_type": "execute_result",
          "data": {
            "text/plain": [
              "<re.Match object; span=(3, 5), match='10'>"
            ]
          },
          "metadata": {},
          "execution_count": 117
        }
      ]
    },
    {
      "cell_type": "code",
      "source": [
        "code = re.search(r'\\d\\d\\d\\d\\d',tx)  # 5 digitos"
      ],
      "metadata": {
        "id": "361d555aWyTm"
      },
      "execution_count": 118,
      "outputs": []
    },
    {
      "cell_type": "code",
      "source": [],
      "metadata": {
        "id": "EwWaAYlBXI4c"
      },
      "execution_count": null,
      "outputs": []
    }
  ]
}