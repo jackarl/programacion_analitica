{
  "nbformat": 4,
  "nbformat_minor": 0,
  "metadata": {
    "colab": {
      "provenance": [],
      "authorship_tag": "ABX9TyNipt5lQtIJKQUmhHSmEYyj",
      "include_colab_link": true
    },
    "kernelspec": {
      "name": "python3",
      "display_name": "Python 3"
    },
    "language_info": {
      "name": "python"
    }
  },
  "cells": [
    {
      "cell_type": "markdown",
      "metadata": {
        "id": "view-in-github",
        "colab_type": "text"
      },
      "source": [
        "<a href=\"https://colab.research.google.com/github/jackarl/programacion_analitica/blob/main/REGEX.ipynb\" target=\"_parent\"><img src=\"https://colab.research.google.com/assets/colab-badge.svg\" alt=\"Open In Colab\"/></a>"
      ]
    },
    {
      "cell_type": "markdown",
      "source": [
        "## Expresiones Regularres"
      ],
      "metadata": {
        "id": "lj-6AS2mLSOn"
      }
    },
    {
      "cell_type": "code",
      "execution_count": 2,
      "metadata": {
        "id": "qzi0OE74_Lcq"
      },
      "outputs": [],
      "source": [
        "texto = 'El 10 de agosto de 2025, María Pérez envió un correo electrónico a la dirección maria.perez@email.com solicitando información sobre el producto X-200. Su número de teléfono es +34 612-345-678. Además, visitó la web https://www.ejemplo.com para consultar precios y disponibilidad. El servidor registró el acceso desde la IP 192.168.1.15 a las 14:23:56, y se detectó un error en el log con código ERR500. En Twitter, el usuario @DataAnalyst comentó: \"Los modelos de IA son el futuro #MachineLearning #IA2025\". El totaal de la compra fue de $199.99, y el cliente pagó con tarjeta VISA terminada en 1234. Por otro lado, el DNI de Juan García es 12345678Z y su código postal 28080. Para más información, puede llamar al 911 234 567 o visitar www.informacion.es. Recordamos que las feechas límite para inscripción son 2025-09-30 y 2025-10-15.'"
      ]
    },
    {
      "cell_type": "markdown",
      "source": [
        "El 10 de agosto de 2025, María Pérez envió un correo electrónico a la dirección maria.perez@email.com solicitando información sobre el producto X-200. Su número de teléfono es +34 612-345-678. Además, visitó la web https://www.ejemplo.com para consultar precios y disponibilidad. El servidor registró el acceso desde la IP 192.168.1.15 a las 14:23:56, y se detectó un error en el log con código ERR500. En Twitter, el usuario @DataAnalyst comentó: \"Los modelos de IA son el futuro #MachineLearning #IA2025\". El totaal de la compra fue de $199.99, y el cliente pagó con tarjeta VISA terminada en 1234. Por otro lado, el DNI de Juan García es 12345678Z y su código postal 28080. Para más información, puede llamar al 911 234 567 o visitar www.informacion.es. Recordamos que las feechas límite para inscripción son 2025-09-30 y 2025-10-15."
      ],
      "metadata": {
        "id": "2BN99hwcCgQs"
      }
    },
    {
      "cell_type": "code",
      "source": [
        "import re"
      ],
      "metadata": {
        "id": "ocEiJNr3_iV2"
      },
      "execution_count": 3,
      "outputs": []
    },
    {
      "cell_type": "markdown",
      "source": [
        "\n",
        "1.   Extraer todas las direcciones de correo electrónico."
      ],
      "metadata": {
        "id": "eH6SvjqK_zht"
      }
    },
    {
      "cell_type": "code",
      "source": [
        "correo = re.findall(r'\\s[A-Za-z0-9._%$*!?+-]+@[A-Za-z0-9.-]+\\.[A-Z|a-z]{2,}\\b', texto) # \\comienza con un espacio literal seguido del conjunto delimitado por [] donde hay letras May y min de la a a la z numeros del 0 al 9 y acepta todos los caracteres especiales#$%.\n",
        "print(correo)                                                                          # seguido del @ literal[de la a a z May-min] seguido de . literal [de la a a la z | denota que pueden ser mayusculas o minusculas] \\b se determina 'boundary' como fin del texto\n",
        "\n",
        "#FUENTE DE ESTUDIO UDEMY REGEX https://www.udemy.com/course/the-modern-python3-bootcamp/"
      ],
      "metadata": {
        "colab": {
          "base_uri": "https://localhost:8080/"
        },
        "id": "tKOfqY54_mhF",
        "outputId": "417b27e5-8c2d-4f69-a841-80ea0559887e"
      },
      "execution_count": 4,
      "outputs": [
        {
          "output_type": "stream",
          "name": "stdout",
          "text": [
            "[' maria.perez@email.com']\n"
          ]
        }
      ]
    },
    {
      "cell_type": "markdown",
      "source": [
        "2.   Extraer todas las URLs (con o sin protocolo)."
      ],
      "metadata": {
        "id": "9TNuQpY4E9AF"
      }
    },
    {
      "cell_type": "code",
      "source": [
        "protocol = 'https://'\n",
        "URL_S = re.findall(r'www\\.[A-Za-z0-9.-]+\\.[A-Z|a-z]{2,}\\b', texto) # .com = \\.[A-Z|a-z]{2,}\\b\n",
        "print(URL_S)"
      ],
      "metadata": {
        "id": "Y3aLA2jp_SNL",
        "colab": {
          "base_uri": "https://localhost:8080/"
        },
        "outputId": "2b0b6dc1-a34e-4a1e-921a-12d44db09f01"
      },
      "execution_count": 5,
      "outputs": [
        {
          "output_type": "stream",
          "name": "stdout",
          "text": [
            "['www.ejemplo.com', 'www.informacion.es']\n"
          ]
        }
      ]
    },
    {
      "cell_type": "code",
      "source": [
        "# clean = re.sub(r'https?//\\S+|www\\.\\S+', '', texto)\n",
        "# print(clean)"
      ],
      "metadata": {
        "id": "RV-kNxEHwbvg"
      },
      "execution_count": 6,
      "outputs": []
    },
    {
      "cell_type": "markdown",
      "source": [
        "3.   Validar y extraer números de teléfono en formato internacional y nacional."
      ],
      "metadata": {
        "id": "7P9RV8gaKYbc"
      }
    },
    {
      "cell_type": "code",
      "source": [
        "tel = re.search(r'\\+\\d{2}\\s\\d{3}-\\d{3}-\\d{3}', texto)\n",
        "print(tel)"
      ],
      "metadata": {
        "colab": {
          "base_uri": "https://localhost:8080/"
        },
        "id": "hRZ5MSmQD7TH",
        "outputId": "46de8eeb-0587-4709-8d9a-bf93c793a2e8"
      },
      "execution_count": 7,
      "outputs": [
        {
          "output_type": "stream",
          "name": "stdout",
          "text": [
            "<re.Match object; span=(176, 191), match='+34 612-345-678'>\n"
          ]
        }
      ]
    },
    {
      "cell_type": "code",
      "source": [
        "telefono = re.findall(r'\\d{3} \\d{3} \\d{3}',texto)\n",
        "print(telefono)"
      ],
      "metadata": {
        "colab": {
          "base_uri": "https://localhost:8080/"
        },
        "id": "MVlsAdr8Mh1V",
        "outputId": "2321ae3d-9353-4075-890d-b88e7951c699"
      },
      "execution_count": 8,
      "outputs": [
        {
          "output_type": "stream",
          "name": "stdout",
          "text": [
            "['911 234 567']\n"
          ]
        }
      ]
    },
    {
      "cell_type": "code",
      "source": [
        "# test = re.findall(r'(\\+\\d{2}\\s|\\d{3}) (\\s\\d{3}|-\\d{3}) (\\s\\d{3}|-\\d{3}) (\\s\\d{3}|-\\d{3})', texto) #CODIGO NO ROMPE PERO NO DA OUTPUT, POR\n",
        "# print(test)"
      ],
      "metadata": {
        "id": "IdxgkKf6OcsS"
      },
      "execution_count": 9,
      "outputs": []
    },
    {
      "cell_type": "markdown",
      "source": [
        "4.   Extraer fechas en formato yyyy-MM-dd."
      ],
      "metadata": {
        "id": "eaaE4vVzOdhS"
      }
    },
    {
      "cell_type": "code",
      "source": [
        "fechas = re.findall(r'\\d{4}-\\d{2}-\\d{2}', texto)\n",
        "print(fechas)"
      ],
      "metadata": {
        "colab": {
          "base_uri": "https://localhost:8080/"
        },
        "id": "ARMkdJtcgBSM",
        "outputId": "b6daac29-c7f8-446e-b828-13331d3b9130"
      },
      "execution_count": 10,
      "outputs": [
        {
          "output_type": "stream",
          "name": "stdout",
          "text": [
            "['2025-09-30', '2025-10-15']\n"
          ]
        }
      ]
    },
    {
      "cell_type": "markdown",
      "source": [
        "5.   Extraer códigos postales de 5 dígitos."
      ],
      "metadata": {
        "id": "2bjYPsojOjLs"
      }
    },
    {
      "cell_type": "code",
      "source": [
        "postal = re.findall(r'\\d{5}\\W', texto)\n",
        "print(f'El codigo postal es: {postal}')"
      ],
      "metadata": {
        "colab": {
          "base_uri": "https://localhost:8080/"
        },
        "id": "1P_gWWkqgQWL",
        "outputId": "a4da7310-6fc9-4cd6-fad9-44776a7eeb51"
      },
      "execution_count": 11,
      "outputs": [
        {
          "output_type": "stream",
          "name": "stdout",
          "text": [
            "El codigo postal es: ['28080.']\n"
          ]
        }
      ]
    },
    {
      "cell_type": "markdown",
      "source": [
        "6.   Extraer DNI (8 dígitos seguidos de letra mayúscula)."
      ],
      "metadata": {
        "id": "uS3d1ZVpOj3a"
      }
    },
    {
      "cell_type": "code",
      "source": [
        "DNI = re.findall(r'\\d+[A-Z]', texto)\n",
        "DNI"
      ],
      "metadata": {
        "colab": {
          "base_uri": "https://localhost:8080/"
        },
        "id": "Yp1zpyfuil_T",
        "outputId": "fd8380cb-2e54-4aaa-d51c-9e8300f376ec"
      },
      "execution_count": 12,
      "outputs": [
        {
          "output_type": "execute_result",
          "data": {
            "text/plain": [
              "['12345678Z']"
            ]
          },
          "metadata": {},
          "execution_count": 12
        }
      ]
    },
    {
      "cell_type": "markdown",
      "source": [
        "7.   Extraer menciones de Twitter."
      ],
      "metadata": {
        "id": "Uwneob4iOkDa"
      }
    },
    {
      "cell_type": "code",
      "source": [
        "twetter = re.findall(r' \\@\\w+', texto)\n",
        "print(twetter)"
      ],
      "metadata": {
        "colab": {
          "base_uri": "https://localhost:8080/"
        },
        "id": "Otqsc9f6hEKx",
        "outputId": "320e6b69-469b-4929-d5ae-4c8400027a2e"
      },
      "execution_count": 13,
      "outputs": [
        {
          "output_type": "stream",
          "name": "stdout",
          "text": [
            "[' @DataAnalyst']\n"
          ]
        }
      ]
    },
    {
      "cell_type": "markdown",
      "source": [
        "8.   Extraer hashtags."
      ],
      "metadata": {
        "id": "T5HBPTjjOkNC"
      }
    },
    {
      "cell_type": "code",
      "source": [
        "hashtag = re.findall(r'#\\w+', texto)\n",
        "print(hashtag)"
      ],
      "metadata": {
        "colab": {
          "base_uri": "https://localhost:8080/"
        },
        "id": "pQU03SxbhUMf",
        "outputId": "d0d508ac-5565-4964-cdeb-b808b2a5f9cc"
      },
      "execution_count": 14,
      "outputs": [
        {
          "output_type": "stream",
          "name": "stdout",
          "text": [
            "['#MachineLearning', '#IA2025']\n"
          ]
        }
      ]
    },
    {
      "cell_type": "markdown",
      "source": [
        "9.   Extraer direcciones IP.  IP 192.168.1.15"
      ],
      "metadata": {
        "id": "XdOwP0CcOkVS"
      }
    },
    {
      "cell_type": "code",
      "source": [
        "ip = re.findall(r'\\d{1,3}\\.\\d{1,3}\\.\\d{1,3}\\.\\d{1,3}', texto)\n",
        "print(ip)"
      ],
      "metadata": {
        "colab": {
          "base_uri": "https://localhost:8080/"
        },
        "id": "kSReeS2Bgv4i",
        "outputId": "1c4b19f9-cbca-4646-a292-877a0a402d80"
      },
      "execution_count": 15,
      "outputs": [
        {
          "output_type": "stream",
          "name": "stdout",
          "text": [
            "['192.168.1.15']\n"
          ]
        }
      ]
    },
    {
      "cell_type": "markdown",
      "source": [
        "10. Extraer importes monetarios (con $ y decimales)."
      ],
      "metadata": {
        "id": "LwFpyJGQOkeC"
      }
    },
    {
      "cell_type": "code",
      "source": [
        "AMOUNT = re.findall(r'\\$\\d+\\.\\d{2}', texto)\n",
        "print(AMOUNT)"
      ],
      "metadata": {
        "colab": {
          "base_uri": "https://localhost:8080/"
        },
        "id": "PfNR21PbjoEQ",
        "outputId": "57a0c6dd-76dc-436f-cc5d-a034f8586b66"
      },
      "execution_count": 16,
      "outputs": [
        {
          "output_type": "stream",
          "name": "stdout",
          "text": [
            "['$199.99']\n"
          ]
        }
      ]
    },
    {
      "cell_type": "markdown",
      "source": [
        "El totaal de la compra fue de $199.99, y el cliente pagó con tarjeta VISA terminada en 1234. Por otro lado, el DNI de Juan García es 12345678Z y su código postal 28080. Para más información, puede llamar al 911 234 567 o visitar www.informacion.es. Recordamos que las feechas límite para inscripción son 2025-09-30 y 2025-10-15."
      ],
      "metadata": {
        "id": "T0Atynygth3P"
      }
    },
    {
      "cell_type": "code",
      "source": [],
      "metadata": {
        "id": "7gVZ0mlXt4nW"
      },
      "execution_count": null,
      "outputs": []
    }
  ]
}