{
  "nbformat": 4,
  "nbformat_minor": 0,
  "metadata": {
    "colab": {
      "provenance": [],
      "mount_file_id": "1jgsQ-cv2pJrbbGX4tjW-v2HG79A30cu6",
      "authorship_tag": "ABX9TyMRnUFrGBvFGgg8TBPF+dfS",
      "include_colab_link": true
    },
    "kernelspec": {
      "name": "python3",
      "display_name": "Python 3"
    },
    "language_info": {
      "name": "python"
    }
  },
  "cells": [
    {
      "cell_type": "markdown",
      "metadata": {
        "id": "view-in-github",
        "colab_type": "text"
      },
      "source": [
        "<a href=\"https://colab.research.google.com/github/jackarl/programacion_analitica/blob/main/Pr%C3%A1ctica_16_Datos_Duplicados.ipynb\" target=\"_parent\"><img src=\"https://colab.research.google.com/assets/colab-badge.svg\" alt=\"Open In Colab\"/></a>"
      ]
    },
    {
      "cell_type": "markdown",
      "source": [
        "El objetivo de esta actividad es que los estudiantes pongan en práctica lo visto en el vídeo y en el notebook que se proporciona"
      ],
      "metadata": {
        "id": "AaTWevZkjjxl"
      }
    },
    {
      "cell_type": "markdown",
      "source": [
        "Instrucciones:\n",
        "\n",
        "\n",
        "\n",
        "*   Descarga el archivo dirtydata.csv, proporcionado en esta tarea. También lo\n",
        "puedes encontrar en recursos.\n",
        "*   Crea un notebook en colab y guarda el archivo csv  en tu drive.\n",
        "*   Agrega secciones en el colab poniendo como título el nombre de cada ejercicio\n",
        "_______________________________________________________________________"
      ],
      "metadata": {
        "id": "WlwyIxdXjmvl"
      }
    },
    {
      "cell_type": "markdown",
      "source": [
        "Ejercicio 01. Datos Perdidos.\n",
        "\n",
        "1. Carga el conjunto de datos dirty.csv y verifica que su carga sea correcta.\n",
        "2. Imprime la cantidad de datos perdidos que tiene el conjunto de datos\n",
        "3. Calcula la media de la columna Calories\n",
        "4. Aplica imputación por promedio (mean) en la columna Calories\n",
        "5. Calcula de nuevo la media de la columna Calories después de que has imputado."
      ],
      "metadata": {
        "id": "M7D0fsCCkB11"
      }
    },
    {
      "cell_type": "code",
      "source": [
        "import pandas as pd\n",
        "import numpy as np\n",
        "\n",
        "print('DataFrama:\\n')\n",
        "df = pd.read_csv('/content/drive/MyDrive/Colab Notebooks/ClassFiles/Unidad 2/Práctica #16: Datos Duplicados/dirtydata.csv')\n",
        "print(df.head(5))\n",
        "print('\\n# de datos vacios\\n')\n",
        "df.isnull().sum()\n",
        "print('la media de la columna \"Calories\" es:\\n')\n",
        "med_cal = df['Calories'].mean()\n",
        "print(med_cal)"
      ],
      "metadata": {
        "colab": {
          "base_uri": "https://localhost:8080/"
        },
        "id": "J9DrUTRomY_p",
        "outputId": "0df717c9-6017-4eee-86d1-0a9874c0427b"
      },
      "execution_count": 17,
      "outputs": [
        {
          "output_type": "stream",
          "name": "stdout",
          "text": [
            "DataFrama:\n",
            "\n",
            "   Duration          Date  Pulse  Maxpulse  Calories\n",
            "0        60  '2020/12/01'    110       130     409.1\n",
            "1        60  '2020/12/02'    117       145     479.0\n",
            "2        60  '2020/12/03'    103       135     340.0\n",
            "3        45  '2020/12/04'    109       175     282.4\n",
            "4        45  '2020/12/05'    117       148     406.0\n",
            "\n",
            "# de datos vacios\n",
            "\n",
            "la media de la columna \"Calories\" es:\n",
            "\n",
            "304.68\n"
          ]
        }
      ]
    },
    {
      "cell_type": "code",
      "source": [
        "mean_cal= df['Calories'].fillna(df['Calories'].mean(), inplace = True)\n",
        "print(df['Calories'].mean())"
      ],
      "metadata": {
        "colab": {
          "base_uri": "https://localhost:8080/"
        },
        "id": "I0CNopiGB8cS",
        "outputId": "37ac4bd6-e500-475a-8c09-4352612e6d32"
      },
      "execution_count": 18,
      "outputs": [
        {
          "output_type": "stream",
          "name": "stdout",
          "text": [
            "304.67999999999995\n"
          ]
        },
        {
          "output_type": "stream",
          "name": "stderr",
          "text": [
            "<ipython-input-18-66ee94a5a89c>:1: FutureWarning: A value is trying to be set on a copy of a DataFrame or Series through chained assignment using an inplace method.\n",
            "The behavior will change in pandas 3.0. This inplace method will never work because the intermediate object on which we are setting values always behaves as a copy.\n",
            "\n",
            "For example, when doing 'df[col].method(value, inplace=True)', try using 'df.method({col: value}, inplace=True)' or df[col] = df[col].method(value) instead, to perform the operation inplace on the original object.\n",
            "\n",
            "\n",
            "  mean_cal= df['Calories'].fillna(df['Calories'].mean(), inplace = True)\n"
          ]
        }
      ]
    },
    {
      "cell_type": "markdown",
      "source": [
        "Ejercicio 02. Duplicidad Parcial Una columna: Contar y Filtrar los registros duplicados en Duration\n",
        "\n",
        "1. Carga el conjunto de datos dirty.csv y verifica que su carga sea correcta.\n",
        "2. Cuenta la cantidad de registros duplicados utilizando solo la información de columna Duration e imprime\n",
        "3. Utiliza value_counts() e imprime la cantidad de registros que hay por cada valor único.\n",
        "5. Filtra los datos y obten los registros sin duplicados"
      ],
      "metadata": {
        "id": "UGIFZAo9kLhM"
      }
    },
    {
      "cell_type": "code",
      "source": [
        "Dup_dur = df['Duration'].duplicated().sum()\n",
        "# print(\"Duplicados\\n\")\n",
        "print(f\"Duplicados: {Dup_dur}\\n\")\n",
        "print(\"________________________#\")\n",
        "print(\"Valores unicos\")\n",
        "unique_dur = df['Duration'].value_counts()\n",
        "print(unique_dur)\n",
        "whitout_dup = df.drop_duplicates(subset='Duration')\n",
        "print(\"________________________#\")\n",
        "print(\"Sin duplicados\\n\")\n",
        "print(whitout_dup)"
      ],
      "metadata": {
        "colab": {
          "base_uri": "https://localhost:8080/"
        },
        "id": "iJJn8xINIkXf",
        "outputId": "dfd4b30a-37e0-468c-9e7d-f7ef660a7984"
      },
      "execution_count": 36,
      "outputs": [
        {
          "output_type": "stream",
          "name": "stdout",
          "text": [
            "Duplicados: 28\n",
            "\n",
            "________________________#\n",
            "Valores unicos\n",
            "Duration\n",
            "60     24\n",
            "45      6\n",
            "450     1\n",
            "30      1\n",
            "Name: count, dtype: int64\n",
            "________________________#\n",
            "Sin duplicados\n",
            "\n",
            "   Duration          Date  Pulse  Maxpulse  Calories\n",
            "0        60  '2020/12/01'    110       130     409.1\n",
            "3        45  '2020/12/04'    109       175     282.4\n",
            "7       450  '2020/12/08'    104       134     253.3\n",
            "8        30  '2020/12/09'    109       133     195.1\n"
          ]
        }
      ]
    },
    {
      "cell_type": "markdown",
      "source": [
        "Ejercicio 03 Duplicidad Parcial Dos columnas: Contar y Filtrar los registros duplicados en Pulse y MaxPulse\n",
        "\n",
        "1. Carga el conjunto de datos dirty.csv y verifica que su carga sea correcta.\n",
        "2. Cuenta la cantidad de registros duplicados utilizando la información de las columnas Pulse y Maxpulse\n",
        "3. Utiliza value_counts() e imprime la cantidad de registros que hay por cada valor único.\n",
        "4. Filtra los datos y obten los registros cuando keep = 'last'\n"
      ],
      "metadata": {
        "id": "nOkxxlkSkJKF"
      }
    },
    {
      "cell_type": "code",
      "source": [
        "# from os import dup\n",
        "dup_par = df.duplicated(subset=['Pulse','Maxpulse']).sum()\n",
        "print(f\"Duplicados: {dup_par}\\n\")\n",
        "value_counts = df[['Pulse','Maxpulse']].value_counts()\n",
        "print(\"________________________#\")\n",
        "print(\"Valores unicos\")\n",
        "print(value_counts)\n",
        "print(\"________________________#\")\n",
        "print(\"___________ Con 'last' #\")\n",
        "count_lat = df.drop_duplicates(subset=['Pulse','Maxpulse'], keep='last')\n",
        "print(count_lat)"
      ],
      "metadata": {
        "colab": {
          "base_uri": "https://localhost:8080/"
        },
        "id": "xIZH4PCMOL5n",
        "outputId": "2d541dd5-adf9-4b71-b090-924e7296b4ee"
      },
      "execution_count": 43,
      "outputs": [
        {
          "output_type": "stream",
          "name": "stdout",
          "text": [
            "Duplicados: 3\n",
            "\n",
            "________________________#\n",
            "Valores unicos\n",
            "Pulse  Maxpulse\n",
            "100    120         4\n",
            "90     112         1\n",
            "103    135         1\n",
            "117    148         1\n",
            "       145         1\n",
            "110    136         1\n",
            "       130         1\n",
            "109    175         1\n",
            "       133         1\n",
            "108    131         1\n",
            "106    128         1\n",
            "105    132         1\n",
            "104    134         1\n",
            "       132         1\n",
            "103    147         1\n",
            "       132         1\n",
            "92     115         1\n",
            "103    123         1\n",
            "102    129         1\n",
            "       127         1\n",
            "       126         1\n",
            "100    132         1\n",
            "       119         1\n",
            "98     124         1\n",
            "       123         1\n",
            "       120         1\n",
            "97     125         1\n",
            "92     118         1\n",
            "130    101         1\n",
            "Name: count, dtype: int64\n",
            "________________________#\n",
            "___________ Con 'last' #\n",
            "    Duration          Date  Pulse  Maxpulse  Calories\n",
            "0         60  '2020/12/01'    110       130    409.10\n",
            "1         60  '2020/12/02'    117       145    479.00\n",
            "2         60  '2020/12/03'    103       135    340.00\n",
            "3         45  '2020/12/04'    109       175    282.40\n",
            "4         45  '2020/12/05'    117       148    406.00\n",
            "5         60  '2020/12/06'    102       127    300.00\n",
            "6         60  '2020/12/07'    110       136    374.00\n",
            "7        450  '2020/12/08'    104       134    253.30\n",
            "8         30  '2020/12/09'    109       133    195.10\n",
            "9         60  '2020/12/10'     98       124    269.00\n",
            "10        60  '2020/12/11'    103       147    329.30\n",
            "13        60  '2020/12/13'    106       128    345.30\n",
            "14        60  '2020/12/14'    104       132    379.30\n",
            "15        60  '2020/12/15'     98       123    275.00\n",
            "16        60  '2020/12/16'     98       120    215.20\n",
            "18        45  '2020/12/18'     90       112    304.68\n",
            "19        60  '2020/12/19'    103       123    323.00\n",
            "20        45  '2020/12/20'     97       125    243.00\n",
            "21        60  '2020/12/21'    108       131    364.20\n",
            "22        45           NaN    100       119    282.00\n",
            "23        60  '2020/12/23'    130       101    300.00\n",
            "24        45  '2020/12/24'    105       132    246.00\n",
            "25        60  '2020/12/25'    102       126    334.50\n",
            "26        60      20201226    100       120    250.00\n",
            "27        60  '2020/12/27'     92       118    241.00\n",
            "28        60  '2020/12/28'    103       132    304.68\n",
            "29        60  '2020/12/29'    100       132    280.00\n",
            "30        60  '2020/12/30'    102       129    380.30\n",
            "31        60  '2020/12/31'     92       115    243.00\n"
          ]
        }
      ]
    },
    {
      "cell_type": "markdown",
      "source": [
        "Ejercicio 04 Duplicidad Total o Exacta: Contar y Filtrar los registros duplicados\n",
        "\n",
        "1. Carga el conjunto de datos dirty.csv y verifica que su carga sea correcta.\n",
        "2. Cuenta la cantidad de registros duplicados exactos (todas las columnas)\n",
        "3. Utiliza sum() e imprime la cantidad de registros con duplicidad exacta\n",
        "4. Filtra los datos y obten los registros cuando keep = 'last'"
      ],
      "metadata": {
        "id": "q-Y42BydkfCD"
      }
    },
    {
      "cell_type": "code",
      "source": [
        "exacto = df.duplicated(keep=False).sum()\n",
        "print(f\"Duplicados: {exacto}\\n\")\n",
        "print(\"________________________#\")\n",
        "k_last = df.drop_duplicates(keep='last')\n",
        "print(k_last)\n",
        "print(\"________________________#\")"
      ],
      "metadata": {
        "colab": {
          "base_uri": "https://localhost:8080/"
        },
        "id": "txPiUPKQRG-K",
        "outputId": "e1b13b85-b7ef-483a-a2cb-f9f852bbdf76"
      },
      "execution_count": 48,
      "outputs": [
        {
          "output_type": "stream",
          "name": "stdout",
          "text": [
            "Duplicados: 2\n",
            "\n",
            "________________________#\n",
            "    Duration          Date  Pulse  Maxpulse  Calories\n",
            "0         60  '2020/12/01'    110       130    409.10\n",
            "1         60  '2020/12/02'    117       145    479.00\n",
            "2         60  '2020/12/03'    103       135    340.00\n",
            "3         45  '2020/12/04'    109       175    282.40\n",
            "4         45  '2020/12/05'    117       148    406.00\n",
            "5         60  '2020/12/06'    102       127    300.00\n",
            "6         60  '2020/12/07'    110       136    374.00\n",
            "7        450  '2020/12/08'    104       134    253.30\n",
            "8         30  '2020/12/09'    109       133    195.10\n",
            "9         60  '2020/12/10'     98       124    269.00\n",
            "10        60  '2020/12/11'    103       147    329.30\n",
            "12        60  '2020/12/12'    100       120    250.70\n",
            "13        60  '2020/12/13'    106       128    345.30\n",
            "14        60  '2020/12/14'    104       132    379.30\n",
            "15        60  '2020/12/15'     98       123    275.00\n",
            "16        60  '2020/12/16'     98       120    215.20\n",
            "17        60  '2020/12/17'    100       120    300.00\n",
            "18        45  '2020/12/18'     90       112    304.68\n",
            "19        60  '2020/12/19'    103       123    323.00\n",
            "20        45  '2020/12/20'     97       125    243.00\n",
            "21        60  '2020/12/21'    108       131    364.20\n",
            "22        45           NaN    100       119    282.00\n",
            "23        60  '2020/12/23'    130       101    300.00\n",
            "24        45  '2020/12/24'    105       132    246.00\n",
            "25        60  '2020/12/25'    102       126    334.50\n",
            "26        60      20201226    100       120    250.00\n",
            "27        60  '2020/12/27'     92       118    241.00\n",
            "28        60  '2020/12/28'    103       132    304.68\n",
            "29        60  '2020/12/29'    100       132    280.00\n",
            "30        60  '2020/12/30'    102       129    380.30\n",
            "31        60  '2020/12/31'     92       115    243.00\n",
            "________________________#\n"
          ]
        }
      ]
    },
    {
      "cell_type": "markdown",
      "source": [
        "Ejercicio 05: Cálculo de la media con duplicados y sin duplicados\n",
        "\n",
        "1. Carga el conjunto de datos dirty.csv y verifica que su carga sea correcta.\n",
        "2. Calcula e imprime la media de las columnas Pulse y MaxPulse\n",
        "3. Identifica los valores duplicados en las columnas Pulse y MaxPulse (Duplicidad Parcial) y elimina los registro repetidos. Quédate con las últimas ocurrencias\n",
        "4. Utiliza el conjunto anterior sin datos duplicados (recuerda que solo quedaron las últimas ocurrencias de los datos) y calcula la media de las columnas Pulse y MaxPulse"
      ],
      "metadata": {
        "id": "zv8fWdbGkmS7"
      }
    },
    {
      "cell_type": "code",
      "source": [
        "mean_puls = df['Pulse'].mean()\n",
        "mean_max = df['Maxpulse'].mean()\n",
        "print(f\"Media puls: {mean_puls}\")\n",
        "print(f\"Media max: {mean_max}\")\n",
        "sin_dup = df.drop_duplicates(subset=['Pulse','Maxpulse'], keep='last')\n",
        "print(\"________________________#\")\n",
        "print(\"Sin duplicados\\n\")\n",
        "print(sin_dup)\n",
        "print(\"________________________#\")\n"
      ],
      "metadata": {
        "colab": {
          "base_uri": "https://localhost:8080/"
        },
        "id": "Yr26FtJqULTd",
        "outputId": "6b75b941-e656-41b1-cdfb-b21efe5a4fdd"
      },
      "execution_count": 55,
      "outputs": [
        {
          "output_type": "stream",
          "name": "stdout",
          "text": [
            "Media puls: 103.5\n",
            "Media max: 128.5\n",
            "________________________#\n",
            "Sin duplicados\n",
            "\n",
            "    Duration          Date  Pulse  Maxpulse  Calories\n",
            "0         60  '2020/12/01'    110       130    409.10\n",
            "1         60  '2020/12/02'    117       145    479.00\n",
            "2         60  '2020/12/03'    103       135    340.00\n",
            "3         45  '2020/12/04'    109       175    282.40\n",
            "4         45  '2020/12/05'    117       148    406.00\n",
            "5         60  '2020/12/06'    102       127    300.00\n",
            "6         60  '2020/12/07'    110       136    374.00\n",
            "7        450  '2020/12/08'    104       134    253.30\n",
            "8         30  '2020/12/09'    109       133    195.10\n",
            "9         60  '2020/12/10'     98       124    269.00\n",
            "10        60  '2020/12/11'    103       147    329.30\n",
            "13        60  '2020/12/13'    106       128    345.30\n",
            "14        60  '2020/12/14'    104       132    379.30\n",
            "15        60  '2020/12/15'     98       123    275.00\n",
            "16        60  '2020/12/16'     98       120    215.20\n",
            "18        45  '2020/12/18'     90       112    304.68\n",
            "19        60  '2020/12/19'    103       123    323.00\n",
            "20        45  '2020/12/20'     97       125    243.00\n",
            "21        60  '2020/12/21'    108       131    364.20\n",
            "22        45           NaN    100       119    282.00\n",
            "23        60  '2020/12/23'    130       101    300.00\n",
            "24        45  '2020/12/24'    105       132    246.00\n",
            "25        60  '2020/12/25'    102       126    334.50\n",
            "26        60      20201226    100       120    250.00\n",
            "27        60  '2020/12/27'     92       118    241.00\n",
            "28        60  '2020/12/28'    103       132    304.68\n",
            "29        60  '2020/12/29'    100       132    280.00\n",
            "30        60  '2020/12/30'    102       129    380.30\n",
            "31        60  '2020/12/31'     92       115    243.00\n",
            "________________________#\n"
          ]
        }
      ]
    }
  ]
}