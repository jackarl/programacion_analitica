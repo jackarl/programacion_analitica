{
  "nbformat": 4,
  "nbformat_minor": 0,
  "metadata": {
    "colab": {
      "provenance": [],
      "authorship_tag": "ABX9TyObqn5vag3aVohT7GNDsrwX",
      "include_colab_link": true
    },
    "kernelspec": {
      "name": "python3",
      "display_name": "Python 3"
    },
    "language_info": {
      "name": "python"
    }
  },
  "cells": [
    {
      "cell_type": "markdown",
      "metadata": {
        "id": "view-in-github",
        "colab_type": "text"
      },
      "source": [
        "<a href=\"https://colab.research.google.com/github/jackarl/programacion_analitica/blob/main/Practica_5.ipynb\" target=\"_parent\"><img src=\"https://colab.research.google.com/assets/colab-badge.svg\" alt=\"Open In Colab\"/></a>"
      ]
    },
    {
      "cell_type": "markdown",
      "source": [
        "** Uso de máscaras booleanas**"
      ],
      "metadata": {
        "id": "JZckimHuJii1"
      }
    },
    {
      "cell_type": "markdown",
      "source": [
        "\n",
        "\n",
        "Crea un arreglo unidimensional con 15 números aleatorios entre 1 y 50. Luego:\n",
        "\n",
        "\n",
        "\n",
        "1.   Selecciona los elementos mayores que 25 utilizando una máscara booleana.\n",
        "2. Cuenta cuántos elementos son mayores que 25.\n"
      ],
      "metadata": {
        "id": "fY3epOOqJfhm"
      }
    },
    {
      "cell_type": "code",
      "source": [
        "from random import randint\n",
        "import numpy as np\n",
        "import pandas as pd\n",
        "list = []\n",
        "for item in range(15):\n",
        "    list.append(randint(1, 50))\n",
        "print(list)"
      ],
      "metadata": {
        "colab": {
          "base_uri": "https://localhost:8080/"
        },
        "id": "yMOnUNVYJwM6",
        "outputId": "28eca367-faa9-4eaf-e65c-b63afdb9de4c"
      },
      "execution_count": 1,
      "outputs": [
        {
          "output_type": "stream",
          "name": "stdout",
          "text": [
            "[44, 25, 42, 2, 4, 25, 22, 47, 40, 46, 38, 39, 45, 4, 38]\n"
          ]
        }
      ]
    },
    {
      "cell_type": "code",
      "source": [
        "new_lst = np.array([n for n in list if n > 25])\n",
        "print(new_lst)\n",
        "\n",
        "even_mask = new_lst % 2 == 0\n",
        "print(even_mask)\n",
        "sz = even_mask.size\n",
        "print(sz)\n"
      ],
      "metadata": {
        "colab": {
          "base_uri": "https://localhost:8080/"
        },
        "id": "LW_LLbwYKZtq",
        "outputId": "4a9205c8-bb68-458a-8422-b3b8d25dc462"
      },
      "execution_count": 2,
      "outputs": [
        {
          "output_type": "stream",
          "name": "stdout",
          "text": [
            "[44 42 47 40 46 38 39 45 38]\n",
            "[ True  True False  True  True  True False False  True]\n",
            "9\n"
          ]
        }
      ]
    }
  ]
}